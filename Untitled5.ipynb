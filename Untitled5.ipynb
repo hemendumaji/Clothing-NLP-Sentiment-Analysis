{
 "cells": [
  {
   "cell_type": "code",
   "execution_count": 64,
   "id": "e7f60823",
   "metadata": {},
   "outputs": [
    {
     "name": "stdout",
     "output_type": "stream",
     "text": [
      "Defaulting to user installation because normal site-packages is not writeable\n",
      "Collecting xgboost\n",
      "  Obtaining dependency information for xgboost from https://files.pythonhosted.org/packages/bc/43/242432efc3f60052a4a534dc4926b21e236ab4ec8d4920c593da3f65c65d/xgboost-2.0.2-py3-none-win_amd64.whl.metadata\n",
      "  Downloading xgboost-2.0.2-py3-none-win_amd64.whl.metadata (2.0 kB)\n",
      "Requirement already satisfied: numpy in c:\\programdata\\anaconda3\\lib\\site-packages (from xgboost) (1.24.3)\n",
      "Requirement already satisfied: scipy in c:\\programdata\\anaconda3\\lib\\site-packages (from xgboost) (1.10.1)\n",
      "Downloading xgboost-2.0.2-py3-none-win_amd64.whl (99.8 MB)\n",
      "   ---------------------------------------- 0.0/99.8 MB ? eta -:--:--\n",
      "   ---------------------------------------- 0.1/99.8 MB 4.3 MB/s eta 0:00:24\n",
      "   ---------------------------------------- 0.4/99.8 MB 6.0 MB/s eta 0:00:17\n",
      "   ---------------------------------------- 0.4/99.8 MB 6.0 MB/s eta 0:00:17\n",
      "   ---------------------------------------- 0.4/99.8 MB 6.0 MB/s eta 0:00:17\n",
      "   ---------------------------------------- 0.5/99.8 MB 2.6 MB/s eta 0:00:39\n",
      "   ---------------------------------------- 0.8/99.8 MB 3.1 MB/s eta 0:00:33\n",
      "   ---------------------------------------- 0.8/99.8 MB 3.2 MB/s eta 0:00:31\n",
      "   ---------------------------------------- 1.1/99.8 MB 3.6 MB/s eta 0:00:28\n",
      "    --------------------------------------- 1.6/99.8 MB 4.5 MB/s eta 0:00:22\n",
      "    --------------------------------------- 2.0/99.8 MB 5.0 MB/s eta 0:00:20\n",
      "   - -------------------------------------- 2.5/99.8 MB 5.7 MB/s eta 0:00:18\n",
      "   - -------------------------------------- 2.8/99.8 MB 5.9 MB/s eta 0:00:17\n",
      "   - -------------------------------------- 2.8/99.8 MB 5.8 MB/s eta 0:00:17\n",
      "   - -------------------------------------- 3.4/99.8 MB 6.0 MB/s eta 0:00:17\n",
      "   - -------------------------------------- 3.9/99.8 MB 6.4 MB/s eta 0:00:16\n",
      "   - -------------------------------------- 4.3/99.8 MB 6.7 MB/s eta 0:00:15\n",
      "   - -------------------------------------- 4.6/99.8 MB 6.9 MB/s eta 0:00:14\n",
      "   - -------------------------------------- 4.9/99.8 MB 6.7 MB/s eta 0:00:15\n",
      "   -- ------------------------------------- 5.4/99.8 MB 7.0 MB/s eta 0:00:14\n",
      "   -- ------------------------------------- 5.7/99.8 MB 7.2 MB/s eta 0:00:14\n",
      "   -- ------------------------------------- 6.1/99.8 MB 7.1 MB/s eta 0:00:14\n",
      "   -- ------------------------------------- 6.7/99.8 MB 7.5 MB/s eta 0:00:13\n",
      "   -- ------------------------------------- 6.8/99.8 MB 7.4 MB/s eta 0:00:13\n",
      "   --- ------------------------------------ 7.6/99.8 MB 7.9 MB/s eta 0:00:12\n",
      "   --- ------------------------------------ 8.0/99.8 MB 7.8 MB/s eta 0:00:12\n",
      "   --- ------------------------------------ 8.6/99.8 MB 8.0 MB/s eta 0:00:12\n",
      "   --- ------------------------------------ 9.0/99.8 MB 8.1 MB/s eta 0:00:12\n",
      "   --- ------------------------------------ 9.5/99.8 MB 8.2 MB/s eta 0:00:11\n",
      "   --- ------------------------------------ 9.7/99.8 MB 8.3 MB/s eta 0:00:11\n",
      "   ---- ----------------------------------- 10.4/99.8 MB 8.5 MB/s eta 0:00:11\n",
      "   ---- ----------------------------------- 10.7/99.8 MB 9.5 MB/s eta 0:00:10\n",
      "   ---- ----------------------------------- 11.2/99.8 MB 10.1 MB/s eta 0:00:09\n",
      "   ---- ----------------------------------- 11.7/99.8 MB 9.9 MB/s eta 0:00:09\n",
      "   ---- ----------------------------------- 11.9/99.8 MB 9.9 MB/s eta 0:00:09\n",
      "   ---- ----------------------------------- 11.9/99.8 MB 9.9 MB/s eta 0:00:09\n",
      "   ---- ----------------------------------- 12.3/99.8 MB 9.6 MB/s eta 0:00:10\n",
      "   ----- ---------------------------------- 12.9/99.8 MB 9.5 MB/s eta 0:00:10\n",
      "   ----- ---------------------------------- 13.2/99.8 MB 9.9 MB/s eta 0:00:09\n",
      "   ----- ---------------------------------- 13.8/99.8 MB 9.9 MB/s eta 0:00:09\n",
      "   ----- ---------------------------------- 14.1/99.8 MB 9.8 MB/s eta 0:00:09\n",
      "   ----- ---------------------------------- 14.2/99.8 MB 9.5 MB/s eta 0:00:10\n",
      "   ----- ---------------------------------- 14.6/99.8 MB 9.6 MB/s eta 0:00:09\n",
      "   ------ --------------------------------- 15.1/99.8 MB 9.6 MB/s eta 0:00:09\n",
      "   ------ --------------------------------- 15.2/99.8 MB 9.5 MB/s eta 0:00:09\n",
      "   ------ --------------------------------- 15.6/99.8 MB 9.4 MB/s eta 0:00:09\n",
      "   ------ --------------------------------- 16.1/99.8 MB 9.6 MB/s eta 0:00:09\n",
      "   ------ --------------------------------- 16.4/99.8 MB 9.5 MB/s eta 0:00:09\n",
      "   ------ --------------------------------- 16.9/99.8 MB 9.2 MB/s eta 0:00:09\n",
      "   ------ --------------------------------- 17.4/99.8 MB 9.5 MB/s eta 0:00:09\n",
      "   ------- -------------------------------- 17.9/99.8 MB 9.5 MB/s eta 0:00:09\n",
      "   ------- -------------------------------- 18.0/99.8 MB 9.4 MB/s eta 0:00:09\n",
      "   ------- -------------------------------- 18.4/99.8 MB 9.2 MB/s eta 0:00:09\n",
      "   ------- -------------------------------- 19.0/99.8 MB 9.2 MB/s eta 0:00:09\n",
      "   ------- -------------------------------- 19.4/99.8 MB 9.4 MB/s eta 0:00:09\n",
      "   ------- -------------------------------- 19.8/99.8 MB 9.0 MB/s eta 0:00:09\n",
      "   -------- ------------------------------- 20.1/99.8 MB 9.1 MB/s eta 0:00:09\n",
      "   -------- ------------------------------- 20.6/99.8 MB 8.8 MB/s eta 0:00:09\n",
      "   -------- ------------------------------- 20.9/99.8 MB 8.8 MB/s eta 0:00:09\n",
      "   -------- ------------------------------- 21.2/99.8 MB 8.8 MB/s eta 0:00:09\n",
      "   -------- ------------------------------- 21.7/99.8 MB 8.7 MB/s eta 0:00:09\n",
      "   -------- ------------------------------- 22.1/99.8 MB 8.8 MB/s eta 0:00:09\n",
      "   --------- ------------------------------ 22.5/99.8 MB 9.2 MB/s eta 0:00:09\n",
      "   --------- ------------------------------ 22.9/99.8 MB 9.2 MB/s eta 0:00:09\n",
      "   --------- ------------------------------ 23.4/99.8 MB 9.2 MB/s eta 0:00:09\n",
      "   --------- ------------------------------ 23.8/99.8 MB 9.2 MB/s eta 0:00:09\n",
      "   --------- ------------------------------ 24.2/99.8 MB 9.5 MB/s eta 0:00:08\n",
      "   --------- ------------------------------ 24.4/99.8 MB 9.2 MB/s eta 0:00:09\n",
      "   --------- ------------------------------ 24.8/99.8 MB 9.4 MB/s eta 0:00:09\n",
      "   ---------- ----------------------------- 25.2/99.8 MB 9.2 MB/s eta 0:00:09\n",
      "   ---------- ----------------------------- 25.6/99.8 MB 9.6 MB/s eta 0:00:08\n",
      "   ---------- ----------------------------- 26.1/99.8 MB 9.4 MB/s eta 0:00:08\n",
      "   ---------- ----------------------------- 26.6/99.8 MB 9.5 MB/s eta 0:00:08\n",
      "   ---------- ----------------------------- 26.9/99.8 MB 9.4 MB/s eta 0:00:08\n",
      "   ----------- ---------------------------- 27.6/99.8 MB 9.5 MB/s eta 0:00:08\n",
      "   ----------- ---------------------------- 27.8/99.8 MB 9.2 MB/s eta 0:00:08\n",
      "   ----------- ---------------------------- 28.1/99.8 MB 9.4 MB/s eta 0:00:08\n",
      "   ----------- ---------------------------- 28.9/99.8 MB 9.8 MB/s eta 0:00:08\n",
      "   ----------- ---------------------------- 28.9/99.8 MB 9.8 MB/s eta 0:00:08\n",
      "   ----------- ---------------------------- 29.2/99.8 MB 9.4 MB/s eta 0:00:08\n",
      "   ------------ --------------------------- 30.0/99.8 MB 9.6 MB/s eta 0:00:08\n",
      "   ------------ --------------------------- 30.5/99.8 MB 9.9 MB/s eta 0:00:07\n",
      "   ------------ --------------------------- 30.9/99.8 MB 9.8 MB/s eta 0:00:08\n",
      "   ------------ --------------------------- 31.1/99.8 MB 9.6 MB/s eta 0:00:08\n",
      "   ------------ --------------------------- 31.6/99.8 MB 9.9 MB/s eta 0:00:07\n",
      "   ------------ --------------------------- 32.2/99.8 MB 9.8 MB/s eta 0:00:07\n",
      "   ------------- -------------------------- 32.5/99.8 MB 9.9 MB/s eta 0:00:07\n",
      "   ------------- -------------------------- 32.9/99.8 MB 9.9 MB/s eta 0:00:07\n",
      "   ------------- -------------------------- 33.4/99.8 MB 10.1 MB/s eta 0:00:07\n",
      "   ------------- -------------------------- 34.0/99.8 MB 9.9 MB/s eta 0:00:07\n",
      "   ------------- -------------------------- 34.3/99.8 MB 9.8 MB/s eta 0:00:07\n",
      "   ------------- -------------------------- 34.9/99.8 MB 10.2 MB/s eta 0:00:07\n",
      "   -------------- ------------------------- 35.6/99.8 MB 10.4 MB/s eta 0:00:07\n",
      "   -------------- ------------------------- 35.9/99.8 MB 10.4 MB/s eta 0:00:07\n",
      "   -------------- ------------------------- 36.2/99.8 MB 10.2 MB/s eta 0:00:07\n",
      "   -------------- ------------------------- 37.0/99.8 MB 10.9 MB/s eta 0:00:06\n",
      "   -------------- ------------------------- 37.3/99.8 MB 10.7 MB/s eta 0:00:06\n",
      "   --------------- ------------------------ 38.0/99.8 MB 11.1 MB/s eta 0:00:06\n",
      "   --------------- ------------------------ 38.3/99.8 MB 10.7 MB/s eta 0:00:06\n",
      "   --------------- ------------------------ 38.6/99.8 MB 11.1 MB/s eta 0:00:06\n",
      "   --------------- ------------------------ 39.3/99.8 MB 11.3 MB/s eta 0:00:06\n",
      "   --------------- ------------------------ 39.7/99.8 MB 11.5 MB/s eta 0:00:06\n",
      "   ---------------- ----------------------- 40.2/99.8 MB 11.1 MB/s eta 0:00:06\n",
      "   ---------------- ----------------------- 40.4/99.8 MB 10.9 MB/s eta 0:00:06\n",
      "   ---------------- ----------------------- 41.2/99.8 MB 11.1 MB/s eta 0:00:06\n",
      "   ---------------- ----------------------- 41.5/99.8 MB 11.3 MB/s eta 0:00:06\n",
      "   ---------------- ----------------------- 42.1/99.8 MB 11.5 MB/s eta 0:00:06\n",
      "   ----------------- ---------------------- 42.5/99.8 MB 11.3 MB/s eta 0:00:06\n",
      "   ----------------- ---------------------- 42.8/99.8 MB 11.3 MB/s eta 0:00:06\n",
      "   ----------------- ---------------------- 43.3/99.8 MB 11.3 MB/s eta 0:00:06\n",
      "   ----------------- ---------------------- 43.9/99.8 MB 11.3 MB/s eta 0:00:05\n",
      "   ----------------- ---------------------- 44.2/99.8 MB 11.3 MB/s eta 0:00:05\n",
      "   ----------------- ---------------------- 44.8/99.8 MB 11.3 MB/s eta 0:00:05\n",
      "   ------------------ --------------------- 45.0/99.8 MB 11.3 MB/s eta 0:00:05\n",
      "   ------------------ --------------------- 45.5/99.8 MB 11.3 MB/s eta 0:00:05\n",
      "   ------------------ --------------------- 46.0/99.8 MB 11.3 MB/s eta 0:00:05\n",
      "   ------------------ --------------------- 46.3/99.8 MB 11.1 MB/s eta 0:00:05\n",
      "   ------------------ --------------------- 47.0/99.8 MB 11.1 MB/s eta 0:00:05\n",
      "   ------------------- -------------------- 47.4/99.8 MB 10.9 MB/s eta 0:00:05\n",
      "   ------------------- -------------------- 47.7/99.8 MB 10.9 MB/s eta 0:00:05\n",
      "   ------------------- -------------------- 48.0/99.8 MB 10.7 MB/s eta 0:00:05\n",
      "   ------------------- -------------------- 48.5/99.8 MB 10.7 MB/s eta 0:00:05\n",
      "   ------------------- -------------------- 48.8/99.8 MB 10.6 MB/s eta 0:00:05\n",
      "   ------------------- -------------------- 49.5/99.8 MB 10.9 MB/s eta 0:00:05\n",
      "   -------------------- ------------------- 49.9/99.8 MB 10.7 MB/s eta 0:00:05\n",
      "   -------------------- ------------------- 50.5/99.8 MB 10.9 MB/s eta 0:00:05\n",
      "   -------------------- ------------------- 51.0/99.8 MB 11.1 MB/s eta 0:00:05\n",
      "   -------------------- ------------------- 51.4/99.8 MB 10.9 MB/s eta 0:00:05\n",
      "   -------------------- ------------------- 51.6/99.8 MB 10.9 MB/s eta 0:00:05\n",
      "   -------------------- ------------------- 52.2/99.8 MB 10.9 MB/s eta 0:00:05\n",
      "   --------------------- ------------------ 52.6/99.8 MB 10.7 MB/s eta 0:00:05\n",
      "   --------------------- ------------------ 53.4/99.8 MB 11.3 MB/s eta 0:00:05\n",
      "   --------------------- ------------------ 53.8/99.8 MB 11.3 MB/s eta 0:00:05\n",
      "   --------------------- ------------------ 54.4/99.8 MB 11.3 MB/s eta 0:00:05\n",
      "   ---------------------- ----------------- 54.9/99.8 MB 11.3 MB/s eta 0:00:04\n",
      "   ---------------------- ----------------- 55.0/99.8 MB 11.1 MB/s eta 0:00:05\n",
      "   ---------------------- ----------------- 55.7/99.8 MB 11.7 MB/s eta 0:00:04\n",
      "   ---------------------- ----------------- 56.2/99.8 MB 11.3 MB/s eta 0:00:04\n",
      "   ---------------------- ----------------- 56.6/99.8 MB 11.3 MB/s eta 0:00:04\n",
      "   ---------------------- ----------------- 57.2/99.8 MB 11.3 MB/s eta 0:00:04\n",
      "   ----------------------- ---------------- 57.4/99.8 MB 11.1 MB/s eta 0:00:04\n",
      "   ----------------------- ---------------- 57.9/99.8 MB 10.9 MB/s eta 0:00:04\n",
      "   ----------------------- ---------------- 58.0/99.8 MB 11.3 MB/s eta 0:00:04\n",
      "   ----------------------- ---------------- 58.6/99.8 MB 11.3 MB/s eta 0:00:04\n",
      "   ----------------------- ---------------- 58.9/99.8 MB 11.5 MB/s eta 0:00:04\n",
      "   ----------------------- ---------------- 59.0/99.8 MB 11.3 MB/s eta 0:00:04\n",
      "   ----------------------- ---------------- 59.8/99.8 MB 10.9 MB/s eta 0:00:04\n",
      "   ------------------------ --------------- 59.9/99.8 MB 11.1 MB/s eta 0:00:04\n",
      "   ------------------------ --------------- 60.5/99.8 MB 10.6 MB/s eta 0:00:04\n",
      "   ------------------------ --------------- 60.7/99.8 MB 10.4 MB/s eta 0:00:04\n",
      "   ------------------------ --------------- 61.2/99.8 MB 10.2 MB/s eta 0:00:04\n",
      "   ------------------------ --------------- 61.7/99.8 MB 10.6 MB/s eta 0:00:04\n",
      "   ------------------------ --------------- 62.1/99.8 MB 10.4 MB/s eta 0:00:04\n",
      "   ------------------------- -------------- 62.6/99.8 MB 10.6 MB/s eta 0:00:04\n",
      "   ------------------------- -------------- 62.7/99.8 MB 10.4 MB/s eta 0:00:04\n",
      "   ------------------------- -------------- 63.3/99.8 MB 10.4 MB/s eta 0:00:04\n",
      "   ------------------------- -------------- 63.6/99.8 MB 10.2 MB/s eta 0:00:04\n",
      "   ------------------------- -------------- 64.1/99.8 MB 10.4 MB/s eta 0:00:04\n",
      "   ------------------------- -------------- 64.1/99.8 MB 10.4 MB/s eta 0:00:04\n",
      "   -------------------------- ------------- 64.9/99.8 MB 10.1 MB/s eta 0:00:04\n",
      "   -------------------------- ------------- 64.9/99.8 MB 9.9 MB/s eta 0:00:04\n",
      "   -------------------------- ------------- 65.6/99.8 MB 10.1 MB/s eta 0:00:04\n",
      "   -------------------------- ------------- 65.6/99.8 MB 10.1 MB/s eta 0:00:04\n",
      "   -------------------------- ------------- 66.2/99.8 MB 10.2 MB/s eta 0:00:04\n",
      "   -------------------------- ------------- 66.2/99.8 MB 10.2 MB/s eta 0:00:04\n",
      "   -------------------------- ------------- 66.9/99.8 MB 9.6 MB/s eta 0:00:04\n",
      "   --------------------------- ------------ 67.6/99.8 MB 9.9 MB/s eta 0:00:04\n",
      "   --------------------------- ------------ 68.0/99.8 MB 10.1 MB/s eta 0:00:04\n",
      "   --------------------------- ------------ 68.4/99.8 MB 10.2 MB/s eta 0:00:04\n",
      "   --------------------------- ------------ 68.7/99.8 MB 9.8 MB/s eta 0:00:04\n",
      "   --------------------------- ------------ 69.2/99.8 MB 9.9 MB/s eta 0:00:04\n",
      "   --------------------------- ------------ 69.3/99.8 MB 10.1 MB/s eta 0:00:04\n",
      "   --------------------------- ------------ 69.7/99.8 MB 9.6 MB/s eta 0:00:04\n",
      "   ---------------------------- ----------- 70.1/99.8 MB 9.8 MB/s eta 0:00:04\n",
      "   ---------------------------- ----------- 70.7/99.8 MB 10.4 MB/s eta 0:00:03\n",
      "   ---------------------------- ----------- 70.9/99.8 MB 10.1 MB/s eta 0:00:03\n",
      "   ---------------------------- ----------- 71.4/99.8 MB 10.2 MB/s eta 0:00:03\n",
      "   ---------------------------- ----------- 72.0/99.8 MB 10.2 MB/s eta 0:00:03\n",
      "   ----------------------------- ---------- 72.5/99.8 MB 10.2 MB/s eta 0:00:03\n",
      "   ----------------------------- ---------- 72.5/99.8 MB 10.2 MB/s eta 0:00:03\n",
      "   ----------------------------- ---------- 73.0/99.8 MB 10.4 MB/s eta 0:00:03\n",
      "   ----------------------------- ---------- 73.5/99.8 MB 9.9 MB/s eta 0:00:03\n",
      "   ----------------------------- ---------- 73.9/99.8 MB 10.1 MB/s eta 0:00:03\n",
      "   ----------------------------- ---------- 74.4/99.8 MB 10.4 MB/s eta 0:00:03\n",
      "   ------------------------------ --------- 74.9/99.8 MB 10.1 MB/s eta 0:00:03\n",
      "   ------------------------------ --------- 75.0/99.8 MB 10.1 MB/s eta 0:00:03\n",
      "   ------------------------------ --------- 75.5/99.8 MB 10.2 MB/s eta 0:00:03\n",
      "   ------------------------------ --------- 76.1/99.8 MB 10.2 MB/s eta 0:00:03\n",
      "   ------------------------------ --------- 76.4/99.8 MB 10.7 MB/s eta 0:00:03\n",
      "   ------------------------------ --------- 77.0/99.8 MB 10.6 MB/s eta 0:00:03\n",
      "   ------------------------------- -------- 77.4/99.8 MB 10.2 MB/s eta 0:00:03\n",
      "   ------------------------------- -------- 77.8/99.8 MB 10.2 MB/s eta 0:00:03\n",
      "   ------------------------------- -------- 78.4/99.8 MB 10.2 MB/s eta 0:00:03\n",
      "   ------------------------------- -------- 78.7/99.8 MB 10.4 MB/s eta 0:00:03\n",
      "   ------------------------------- -------- 79.3/99.8 MB 10.4 MB/s eta 0:00:02\n",
      "   ------------------------------- -------- 79.8/99.8 MB 10.9 MB/s eta 0:00:02\n",
      "   -------------------------------- ------- 80.2/99.8 MB 10.7 MB/s eta 0:00:02\n",
      "   -------------------------------- ------- 80.5/99.8 MB 10.7 MB/s eta 0:00:02\n",
      "   -------------------------------- ------- 80.7/99.8 MB 10.6 MB/s eta 0:00:02\n",
      "   -------------------------------- ------- 81.3/99.8 MB 10.9 MB/s eta 0:00:02\n",
      "   -------------------------------- ------- 81.7/99.8 MB 10.7 MB/s eta 0:00:02\n",
      "   -------------------------------- ------- 82.2/99.8 MB 10.6 MB/s eta 0:00:02\n",
      "   --------------------------------- ------ 82.7/99.8 MB 10.6 MB/s eta 0:00:02\n",
      "   --------------------------------- ------ 83.0/99.8 MB 10.6 MB/s eta 0:00:02\n",
      "   --------------------------------- ------ 83.6/99.8 MB 10.9 MB/s eta 0:00:02\n",
      "   --------------------------------- ------ 83.9/99.8 MB 10.9 MB/s eta 0:00:02\n",
      "   --------------------------------- ------ 84.4/99.8 MB 10.9 MB/s eta 0:00:02\n",
      "   --------------------------------- ------ 84.7/99.8 MB 10.9 MB/s eta 0:00:02\n",
      "   ---------------------------------- ----- 85.2/99.8 MB 10.7 MB/s eta 0:00:02\n",
      "   ---------------------------------- ----- 85.7/99.8 MB 11.1 MB/s eta 0:00:02\n",
      "   ---------------------------------- ----- 86.3/99.8 MB 11.1 MB/s eta 0:00:02\n",
      "   ---------------------------------- ----- 86.7/99.8 MB 11.5 MB/s eta 0:00:02\n",
      "   ---------------------------------- ----- 87.1/99.8 MB 11.1 MB/s eta 0:00:02\n",
      "   ---------------------------------- ----- 87.3/99.8 MB 11.1 MB/s eta 0:00:02\n",
      "   ---------------------------------- ----- 87.3/99.8 MB 11.1 MB/s eta 0:00:02\n",
      "   ----------------------------------- ---- 88.1/99.8 MB 10.7 MB/s eta 0:00:02\n",
      "   ----------------------------------- ---- 88.4/99.8 MB 10.9 MB/s eta 0:00:02\n",
      "   ----------------------------------- ---- 88.9/99.8 MB 10.7 MB/s eta 0:00:02\n",
      "   ----------------------------------- ---- 89.4/99.8 MB 10.6 MB/s eta 0:00:01\n",
      "   ----------------------------------- ---- 89.5/99.8 MB 10.6 MB/s eta 0:00:01\n",
      "   ------------------------------------ --- 89.9/99.8 MB 10.4 MB/s eta 0:00:01\n",
      "   ------------------------------------ --- 90.4/99.8 MB 10.4 MB/s eta 0:00:01\n",
      "   ------------------------------------ --- 90.4/99.8 MB 10.4 MB/s eta 0:00:01\n",
      "   ------------------------------------ --- 91.4/99.8 MB 10.4 MB/s eta 0:00:01\n",
      "   ------------------------------------ --- 91.8/99.8 MB 10.6 MB/s eta 0:00:01\n",
      "   ------------------------------------ --- 92.2/99.8 MB 10.4 MB/s eta 0:00:01\n",
      "   ------------------------------------ --- 92.2/99.8 MB 10.4 MB/s eta 0:00:01\n",
      "   ------------------------------------- -- 93.0/99.8 MB 10.6 MB/s eta 0:00:01\n",
      "   ------------------------------------- -- 93.5/99.8 MB 10.6 MB/s eta 0:00:01\n",
      "   ------------------------------------- -- 93.5/99.8 MB 10.6 MB/s eta 0:00:01\n",
      "   ------------------------------------- -- 94.4/99.8 MB 10.7 MB/s eta 0:00:01\n",
      "   ------------------------------------- -- 94.7/99.8 MB 10.7 MB/s eta 0:00:01\n",
      "   -------------------------------------- - 95.2/99.8 MB 10.7 MB/s eta 0:00:01\n",
      "   -------------------------------------- - 95.5/99.8 MB 10.6 MB/s eta 0:00:01\n",
      "   -------------------------------------- - 96.0/99.8 MB 10.6 MB/s eta 0:00:01\n",
      "   -------------------------------------- - 96.6/99.8 MB 10.7 MB/s eta 0:00:01\n",
      "   -------------------------------------- - 97.0/99.8 MB 10.7 MB/s eta 0:00:01\n",
      "   ---------------------------------------  97.3/99.8 MB 10.6 MB/s eta 0:00:01\n",
      "   ---------------------------------------  97.9/99.8 MB 11.1 MB/s eta 0:00:01\n",
      "   ---------------------------------------  98.2/99.8 MB 10.9 MB/s eta 0:00:01\n",
      "   ---------------------------------------  98.7/99.8 MB 11.3 MB/s eta 0:00:01\n",
      "   ---------------------------------------  99.3/99.8 MB 10.9 MB/s eta 0:00:01\n",
      "   ---------------------------------------  99.7/99.8 MB 10.9 MB/s eta 0:00:01\n",
      "   ---------------------------------------  99.7/99.8 MB 11.3 MB/s eta 0:00:01\n",
      "   ---------------------------------------  99.7/99.8 MB 11.3 MB/s eta 0:00:01\n",
      "   ---------------------------------------  99.7/99.8 MB 11.3 MB/s eta 0:00:01\n",
      "   ---------------------------------------  99.7/99.8 MB 11.3 MB/s eta 0:00:01\n",
      "   ---------------------------------------  99.7/99.8 MB 11.3 MB/s eta 0:00:01\n",
      "   ---------------------------------------  99.7/99.8 MB 11.3 MB/s eta 0:00:01\n",
      "   ---------------------------------------- 99.8/99.8 MB 8.1 MB/s eta 0:00:00\n",
      "Installing collected packages: xgboost\n",
      "Successfully installed xgboost-2.0.2\n",
      "Note: you may need to restart the kernel to use updated packages.\n"
     ]
    }
   ],
   "source": [
    "pip install xgboost\n"
   ]
  },
  {
   "cell_type": "code",
   "execution_count": 1,
   "id": "8e186783",
   "metadata": {},
   "outputs": [],
   "source": [
    "import pandas as pd\n",
    "import numpy as np\n",
    "from sklearn.linear_model import LogisticRegression\n",
    "from sklearn.tree import DecisionTreeClassifier\n",
    "\n",
    "from sklearn.pipeline import Pipeline\n",
    "from sklearn.impute import SimpleImputer\n",
    "from sklearn.feature_extraction.text import TfidfVectorizer\n",
    "from sklearn.model_selection import train_test_split\n",
    "from sklearn.ensemble import RandomForestClassifier\n",
    "\n",
    "import seaborn as sns\n"
   ]
  },
  {
   "cell_type": "code",
   "execution_count": 2,
   "id": "fc075a26",
   "metadata": {},
   "outputs": [
    {
     "data": {
      "text/plain": [
       "CompletedProcess(args=['python', '-m', 'spacy', 'download', 'en_core_web_sm'], returncode=1)"
      ]
     },
     "execution_count": 2,
     "metadata": {},
     "output_type": "execute_result"
    }
   ],
   "source": [
    "import subprocess\n",
    "\n",
    "# Use subprocess to run the download command\n",
    "subprocess.run([\"python\", \"-m\", \"spacy\", \"download\", \"en_core_web_sm\"])\n"
   ]
  },
  {
   "cell_type": "code",
   "execution_count": 3,
   "id": "511f78ce",
   "metadata": {},
   "outputs": [],
   "source": [
    "df = pd.read_csv('Womens Clothing E-Commerce Reviews.csv')"
   ]
  },
  {
   "cell_type": "code",
   "execution_count": 4,
   "id": "a866aaea",
   "metadata": {},
   "outputs": [
    {
     "data": {
      "text/html": [
       "<div>\n",
       "<style scoped>\n",
       "    .dataframe tbody tr th:only-of-type {\n",
       "        vertical-align: middle;\n",
       "    }\n",
       "\n",
       "    .dataframe tbody tr th {\n",
       "        vertical-align: top;\n",
       "    }\n",
       "\n",
       "    .dataframe thead th {\n",
       "        text-align: right;\n",
       "    }\n",
       "</style>\n",
       "<table border=\"1\" class=\"dataframe\">\n",
       "  <thead>\n",
       "    <tr style=\"text-align: right;\">\n",
       "      <th></th>\n",
       "      <th>Unnamed: 0</th>\n",
       "      <th>Clothing ID</th>\n",
       "      <th>Age</th>\n",
       "      <th>Title</th>\n",
       "      <th>Review Text</th>\n",
       "      <th>Rating</th>\n",
       "      <th>Recommended IND</th>\n",
       "      <th>Positive Feedback Count</th>\n",
       "      <th>Division Name</th>\n",
       "      <th>Department Name</th>\n",
       "      <th>Class Name</th>\n",
       "    </tr>\n",
       "  </thead>\n",
       "  <tbody>\n",
       "    <tr>\n",
       "      <th>0</th>\n",
       "      <td>0</td>\n",
       "      <td>767</td>\n",
       "      <td>33</td>\n",
       "      <td>NaN</td>\n",
       "      <td>Absolutely wonderful - silky and sexy and comf...</td>\n",
       "      <td>4</td>\n",
       "      <td>1</td>\n",
       "      <td>0</td>\n",
       "      <td>Initmates</td>\n",
       "      <td>Intimate</td>\n",
       "      <td>Intimates</td>\n",
       "    </tr>\n",
       "    <tr>\n",
       "      <th>1</th>\n",
       "      <td>1</td>\n",
       "      <td>1080</td>\n",
       "      <td>34</td>\n",
       "      <td>NaN</td>\n",
       "      <td>Love this dress!  it's sooo pretty.  i happene...</td>\n",
       "      <td>5</td>\n",
       "      <td>1</td>\n",
       "      <td>4</td>\n",
       "      <td>General</td>\n",
       "      <td>Dresses</td>\n",
       "      <td>Dresses</td>\n",
       "    </tr>\n",
       "    <tr>\n",
       "      <th>2</th>\n",
       "      <td>2</td>\n",
       "      <td>1077</td>\n",
       "      <td>60</td>\n",
       "      <td>Some major design flaws</td>\n",
       "      <td>I had such high hopes for this dress and reall...</td>\n",
       "      <td>3</td>\n",
       "      <td>0</td>\n",
       "      <td>0</td>\n",
       "      <td>General</td>\n",
       "      <td>Dresses</td>\n",
       "      <td>Dresses</td>\n",
       "    </tr>\n",
       "    <tr>\n",
       "      <th>3</th>\n",
       "      <td>3</td>\n",
       "      <td>1049</td>\n",
       "      <td>50</td>\n",
       "      <td>My favorite buy!</td>\n",
       "      <td>I love, love, love this jumpsuit. it's fun, fl...</td>\n",
       "      <td>5</td>\n",
       "      <td>1</td>\n",
       "      <td>0</td>\n",
       "      <td>General Petite</td>\n",
       "      <td>Bottoms</td>\n",
       "      <td>Pants</td>\n",
       "    </tr>\n",
       "    <tr>\n",
       "      <th>4</th>\n",
       "      <td>4</td>\n",
       "      <td>847</td>\n",
       "      <td>47</td>\n",
       "      <td>Flattering shirt</td>\n",
       "      <td>This shirt is very flattering to all due to th...</td>\n",
       "      <td>5</td>\n",
       "      <td>1</td>\n",
       "      <td>6</td>\n",
       "      <td>General</td>\n",
       "      <td>Tops</td>\n",
       "      <td>Blouses</td>\n",
       "    </tr>\n",
       "  </tbody>\n",
       "</table>\n",
       "</div>"
      ],
      "text/plain": [
       "   Unnamed: 0  Clothing ID  Age                    Title  \\\n",
       "0           0          767   33                      NaN   \n",
       "1           1         1080   34                      NaN   \n",
       "2           2         1077   60  Some major design flaws   \n",
       "3           3         1049   50         My favorite buy!   \n",
       "4           4          847   47         Flattering shirt   \n",
       "\n",
       "                                         Review Text  Rating  Recommended IND  \\\n",
       "0  Absolutely wonderful - silky and sexy and comf...       4                1   \n",
       "1  Love this dress!  it's sooo pretty.  i happene...       5                1   \n",
       "2  I had such high hopes for this dress and reall...       3                0   \n",
       "3  I love, love, love this jumpsuit. it's fun, fl...       5                1   \n",
       "4  This shirt is very flattering to all due to th...       5                1   \n",
       "\n",
       "   Positive Feedback Count   Division Name Department Name Class Name  \n",
       "0                        0       Initmates        Intimate  Intimates  \n",
       "1                        4         General         Dresses    Dresses  \n",
       "2                        0         General         Dresses    Dresses  \n",
       "3                        0  General Petite         Bottoms      Pants  \n",
       "4                        6         General            Tops    Blouses  "
      ]
     },
     "execution_count": 4,
     "metadata": {},
     "output_type": "execute_result"
    }
   ],
   "source": [
    "df.head()"
   ]
  },
  {
   "cell_type": "code",
   "execution_count": 5,
   "id": "1619f8b1",
   "metadata": {},
   "outputs": [
    {
     "data": {
      "text/plain": [
       "845"
      ]
     },
     "execution_count": 5,
     "metadata": {},
     "output_type": "execute_result"
    }
   ],
   "source": [
    "df['Review Text'].isna().sum()"
   ]
  },
  {
   "cell_type": "code",
   "execution_count": 6,
   "id": "34d6f7ce",
   "metadata": {},
   "outputs": [
    {
     "data": {
      "text/plain": [
       "0"
      ]
     },
     "execution_count": 6,
     "metadata": {},
     "output_type": "execute_result"
    }
   ],
   "source": [
    "df['Rating'].isna().sum()"
   ]
  },
  {
   "cell_type": "code",
   "execution_count": 7,
   "id": "1f10a5c4",
   "metadata": {},
   "outputs": [],
   "source": [
    "df = df.dropna(subset=['Review Text'])\n"
   ]
  },
  {
   "cell_type": "code",
   "execution_count": 8,
   "id": "dce4d6f1",
   "metadata": {},
   "outputs": [
    {
     "data": {
      "text/plain": [
       "0"
      ]
     },
     "execution_count": 8,
     "metadata": {},
     "output_type": "execute_result"
    }
   ],
   "source": [
    "df['Review Text'].isna().sum()"
   ]
  },
  {
   "cell_type": "code",
   "execution_count": 9,
   "id": "a1697d64",
   "metadata": {},
   "outputs": [
    {
     "data": {
      "image/png": "[encoded data removed]",
      "text/plain": [
       "<Figure size 640x480 with 1 Axes>"
      ]
     },
     "metadata": {},
     "output_type": "display_data"
    }
   ],
   "source": [
    "import matplotlib.pyplot as plt\n",
    "import seaborn as sns\n",
    "\n",
    "# Count plot for the distribution of ratings\n",
    "sns.countplot(x='Rating', data=df)\n",
    "plt.title('Distribution of Ratings')\n",
    "plt.xlabel('Rating')\n",
    "plt.ylabel('Count')\n",
    "plt.show()\n"
   ]
  },
  {
   "cell_type": "code",
   "execution_count": 11,
   "id": "e13af7ee",
   "metadata": {},
   "outputs": [],
   "source": [
    "df[\"Rating\"] = df['Rating'].map({1: 'negative', 2: 'negative', 3: 'negative', 4: 'negative', 5: 'positive'})"
   ]
  },
  {
   "cell_type": "code",
   "execution_count": 12,
   "id": "9afad17e",
   "metadata": {},
   "outputs": [
    {
     "data": {
      "image/png": "[encoded data removed]",
      "text/plain": [
       "<Figure size 640x480 with 1 Axes>"
      ]
     },
     "metadata": {},
     "output_type": "display_data"
    }
   ],
   "source": [
    "# Count plot for the distribution of ratings\n",
    "sns.countplot(x='Rating', data=df)\n",
    "plt.title('Distribution of Ratings')\n",
    "plt.xlabel('Rating')\n",
    "plt.ylabel('Count')\n",
    "plt.show()\n"
   ]
  },
  {
   "cell_type": "code",
   "execution_count": 13,
   "id": "cc0b87b5",
   "metadata": {},
   "outputs": [
    {
     "name": "stdout",
     "output_type": "stream",
     "text": [
      "This is a cute top that can transition easily from summer to fall. it fits well, nice print and it's comfortable. i tried this on in the store, but did not purchase it because the color washed me out. this is not the best color for a blonde. would look much better on a brunette. if this was in a different color i most likely would have purchased it.\n"
     ]
    }
   ],
   "source": [
    "example = df['Review Text'][50]\n",
    "print(example)"
   ]
  },
  {
   "cell_type": "code",
   "execution_count": 14,
   "id": "afb09463",
   "metadata": {},
   "outputs": [
    {
     "name": "stdout",
     "output_type": "stream",
     "text": [
      "Original Example:\n",
      "I had such high hopes for this dress and really wanted it to work for me. i initially ordered the petite small (my usual size) but i found this to be outrageously small. so small in fact that i could not zip it up! i reordered it in petite medium, which was just ok. overall, the top half was comfortable and fit nicely, but the bottom half had a very tight under layer and several somewhat cheap (net) over layers. imo, a major design flaw was the net over layer sewn directly into the zipper - it c\n",
      "\n",
      "Cleaned Example:\n",
      "I had such high hopes for this dress and really wanted it to work for me i initially ordered the petite small my usual size but i found this to be outrageously small so small in fact that i could not zip it up i reordered it in petite medium which was just ok overall the top half was comfortable and fit nicely but the bottom half had a very tight under layer and several somewhat cheap net over layers imo a major design flaw was the net over layer sewn directly into the zipper  it c\n"
     ]
    }
   ],
   "source": [
    "import re\n",
    "\n",
    "def clean_text(sentence):\n",
    "    # Remove special characters, dollar signs, commas, and numeric values\n",
    "    cleaned_sentence = re.sub(r'[^A-Za-z\\s]', '', sentence)\n",
    "    cleaned_sentence = re.sub(r'\\$', '', cleaned_sentence)\n",
    "    cleaned_sentence = re.sub(r',', '', cleaned_sentence)\n",
    "    cleaned_sentence = re.sub(r'\\b\\d+\\b', '', cleaned_sentence)\n",
    "\n",
    "    return cleaned_sentence\n",
    "\n",
    "# Example sentence\n",
    "example = df['Review Text'][2]\n",
    "\n",
    "# Clean the example sentence\n",
    "cleaned_example = clean_text(example)\n",
    "\n",
    "# Print the original and cleaned versions\n",
    "print(\"Original Example:\")\n",
    "print(example)\n",
    "print(\"\\nCleaned Example:\")\n",
    "print(cleaned_example)"
   ]
  },
  {
   "cell_type": "code",
   "execution_count": 15,
   "id": "95717bd2",
   "metadata": {},
   "outputs": [],
   "source": [
    "# Function to calculate the average word length in a sentence\n",
    "def avg_word_length(sentence):\n",
    "    words = sentence.split()\n",
    "    return np.mean([len(word) for word in words]) if words else 0"
   ]
  },
  {
   "cell_type": "code",
   "execution_count": 21,
   "id": "61d478f4",
   "metadata": {},
   "outputs": [
    {
     "name": "stdout",
     "output_type": "stream",
     "text": [
      "Original Example:\n",
      "I had such high hopes for this dress and really wanted it to work for me. i initially ordered the petite small (my usual size) but i found this to be outrageously small. so small in fact that i could not zip it up! i reordered it in petite medium, which was just ok. overall, the top half was comfortable and fit nicely, but the bottom half had a very tight under layer and several somewhat cheap (net) over layers. imo, a major design flaw was the net over layer sewn directly into the zipper - it c\n",
      "\n",
      "Cleaned Example:\n",
      "I had such high hopes for this dress and really wanted it to work for me i initially ordered the petite small my usual size but i found this to be outrageously small so small in fact that i could not zip it up i reordered it in petite medium which was just ok overall the top half was comfortable and fit nicely but the bottom half had a very tight under layer and several somewhat cheap net over layers imo a major design flaw was the net over layer sewn directly into the zipper  it c\n",
      "\n",
      "Review Length: 486\n",
      "Word Count: 97\n",
      "Average Word Length: 4.010309278350515\n",
      "Rating-Sentiment Interaction: 0.0\n"
     ]
    }
   ],
   "source": [
    "import re\n",
    "import numpy as np\n",
    "\n",
    "def clean_text(sentence):\n",
    "    # Remove special characters, dollar signs, commas, and numeric values\n",
    "    cleaned_sentence = re.sub(r'[^A-Za-z\\s]', '', sentence)\n",
    "    cleaned_sentence = re.sub(r'\\$', '', cleaned_sentence)\n",
    "    cleaned_sentence = re.sub(r',', '', cleaned_sentence)\n",
    "    cleaned_sentence = re.sub(r'\\b\\d+\\b', '', cleaned_sentence)\n",
    "\n",
    "    return cleaned_sentence\n",
    "\n",
    "# Function to calculate the average word length in a sentence\n",
    "def avg_word_length(sentence):\n",
    "    words = sentence.split()\n",
    "    return np.mean([len(word) for word in words]) if words else 0\n",
    "\n",
    "# Example sentence\n",
    "example = df['Review Text'][2]\n",
    "\n",
    "# Clean the example sentence\n",
    "cleaned_example = clean_text(example)\n",
    "\n",
    "# Calculate features\n",
    "review_length = len(cleaned_example)\n",
    "word_count = len(cleaned_example.split())\n",
    "avg_word_len = avg_word_length(cleaned_example)\n",
    "\n",
    "# Assuming 'Rating' is your target variable\n",
    "rating_mapping = {'negative': 0, 'positive': 1}  # Adjust as needed\n",
    "rating = df['Rating'][2]  # Replace with the actual index if needed\n",
    "rating = rating_mapping.get(rating, 0)  # Default to 0 if not in the mapping\n",
    "\n",
    "# Rating-Sentiment Interaction feature\n",
    "rating_sentiment_interaction = rating * avg_word_len  # You can modify this interaction as needed\n",
    "\n",
    "# Print the results\n",
    "print(\"Original Example:\")\n",
    "print(example)\n",
    "print(\"\\nCleaned Example:\")\n",
    "print(cleaned_example)\n",
    "print(\"\\nReview Length:\", review_length)\n",
    "print(\"Word Count:\", word_count)\n",
    "print(\"Average Word Length:\", avg_word_len)\n",
    "print(\"Rating-Sentiment Interaction:\", rating_sentiment_interaction)\n"
   ]
  },
  {
   "cell_type": "code",
   "execution_count": 23,
   "id": "cef2d0a5",
   "metadata": {
    "scrolled": true
   },
   "outputs": [
    {
     "data": {
      "text/plain": [
       "['I',\n",
       " 'had',\n",
       " 'such',\n",
       " 'high',\n",
       " 'hopes',\n",
       " 'for',\n",
       " 'this',\n",
       " 'dress',\n",
       " 'and',\n",
       " 'really',\n",
       " 'wanted',\n",
       " 'it',\n",
       " 'to',\n",
       " 'work',\n",
       " 'for',\n",
       " 'me',\n",
       " 'i',\n",
       " 'initially',\n",
       " 'ordered',\n",
       " 'the',\n",
       " 'petite',\n",
       " 'small',\n",
       " 'my',\n",
       " 'usual',\n",
       " 'size',\n",
       " 'but',\n",
       " 'i',\n",
       " 'found',\n",
       " 'this',\n",
       " 'to',\n",
       " 'be',\n",
       " 'outrageously',\n",
       " 'small',\n",
       " 'so',\n",
       " 'small',\n",
       " 'in',\n",
       " 'fact',\n",
       " 'that',\n",
       " 'i',\n",
       " 'could',\n",
       " 'not',\n",
       " 'zip',\n",
       " 'it',\n",
       " 'up',\n",
       " 'i',\n",
       " 'reordered',\n",
       " 'it',\n",
       " 'in',\n",
       " 'petite',\n",
       " 'medium',\n",
       " 'which',\n",
       " 'was',\n",
       " 'just',\n",
       " 'ok',\n",
       " 'overall',\n",
       " 'the',\n",
       " 'top',\n",
       " 'half',\n",
       " 'was',\n",
       " 'comfortable',\n",
       " 'and',\n",
       " 'fit',\n",
       " 'nicely',\n",
       " 'but',\n",
       " 'the',\n",
       " 'bottom',\n",
       " 'half',\n",
       " 'had',\n",
       " 'a',\n",
       " 'very',\n",
       " 'tight',\n",
       " 'under',\n",
       " 'layer',\n",
       " 'and',\n",
       " 'several',\n",
       " 'somewhat',\n",
       " 'cheap',\n",
       " 'net',\n",
       " 'over',\n",
       " 'layers',\n",
       " 'imo',\n",
       " 'a',\n",
       " 'major',\n",
       " 'design',\n",
       " 'flaw',\n",
       " 'was',\n",
       " 'the',\n",
       " 'net',\n",
       " 'over',\n",
       " 'layer',\n",
       " 'sewn',\n",
       " 'directly',\n",
       " 'into',\n",
       " 'the',\n",
       " 'zipper',\n",
       " 'it',\n",
       " 'c']"
      ]
     },
     "execution_count": 23,
     "metadata": {},
     "output_type": "execute_result"
    }
   ],
   "source": [
    "import nltk\n",
    "tokens = nltk.word_tokenize(cleaned_example)\n",
    "tokens"
   ]
  },
  {
   "cell_type": "code",
   "execution_count": 24,
   "id": "f062fd9e",
   "metadata": {
    "scrolled": true
   },
   "outputs": [
    {
     "data": {
      "text/plain": [
       "[('I', 'PRP'),\n",
       " ('had', 'VBD'),\n",
       " ('such', 'JJ'),\n",
       " ('high', 'JJ'),\n",
       " ('hopes', 'NNS'),\n",
       " ('for', 'IN'),\n",
       " ('this', 'DT'),\n",
       " ('dress', 'NN'),\n",
       " ('and', 'CC'),\n",
       " ('really', 'RB'),\n",
       " ('wanted', 'VBD'),\n",
       " ('it', 'PRP'),\n",
       " ('to', 'TO'),\n",
       " ('work', 'VB'),\n",
       " ('for', 'IN'),\n",
       " ('me', 'PRP'),\n",
       " ('i', 'VBP'),\n",
       " ('initially', 'RB'),\n",
       " ('ordered', 'VBN'),\n",
       " ('the', 'DT'),\n",
       " ('petite', 'NN'),\n",
       " ('small', 'JJ'),\n",
       " ('my', 'PRP$'),\n",
       " ('usual', 'JJ'),\n",
       " ('size', 'NN'),\n",
       " ('but', 'CC'),\n",
       " ('i', 'NN'),\n",
       " ('found', 'VBD'),\n",
       " ('this', 'DT'),\n",
       " ('to', 'TO'),\n",
       " ('be', 'VB'),\n",
       " ('outrageously', 'RB'),\n",
       " ('small', 'JJ'),\n",
       " ('so', 'RB'),\n",
       " ('small', 'JJ'),\n",
       " ('in', 'IN'),\n",
       " ('fact', 'NN'),\n",
       " ('that', 'IN'),\n",
       " ('i', 'NN'),\n",
       " ('could', 'MD'),\n",
       " ('not', 'RB'),\n",
       " ('zip', 'VB'),\n",
       " ('it', 'PRP'),\n",
       " ('up', 'RP'),\n",
       " ('i', 'RB'),\n",
       " ('reordered', 'VBD'),\n",
       " ('it', 'PRP'),\n",
       " ('in', 'IN'),\n",
       " ('petite', 'JJ'),\n",
       " ('medium', 'NN'),\n",
       " ('which', 'WDT'),\n",
       " ('was', 'VBD'),\n",
       " ('just', 'RB'),\n",
       " ('ok', 'JJ'),\n",
       " ('overall', 'JJ'),\n",
       " ('the', 'DT'),\n",
       " ('top', 'JJ'),\n",
       " ('half', 'NN'),\n",
       " ('was', 'VBD'),\n",
       " ('comfortable', 'JJ'),\n",
       " ('and', 'CC'),\n",
       " ('fit', 'JJ'),\n",
       " ('nicely', 'RB'),\n",
       " ('but', 'CC'),\n",
       " ('the', 'DT'),\n",
       " ('bottom', 'JJ'),\n",
       " ('half', 'NN'),\n",
       " ('had', 'VBD'),\n",
       " ('a', 'DT'),\n",
       " ('very', 'RB'),\n",
       " ('tight', 'JJ'),\n",
       " ('under', 'IN'),\n",
       " ('layer', 'NN'),\n",
       " ('and', 'CC'),\n",
       " ('several', 'JJ'),\n",
       " ('somewhat', 'RB'),\n",
       " ('cheap', 'JJ'),\n",
       " ('net', 'NN'),\n",
       " ('over', 'IN'),\n",
       " ('layers', 'NNS'),\n",
       " ('imo', 'VBP'),\n",
       " ('a', 'DT'),\n",
       " ('major', 'JJ'),\n",
       " ('design', 'NN'),\n",
       " ('flaw', 'NN'),\n",
       " ('was', 'VBD'),\n",
       " ('the', 'DT'),\n",
       " ('net', 'JJ'),\n",
       " ('over', 'IN'),\n",
       " ('layer', 'NN'),\n",
       " ('sewn', 'NN'),\n",
       " ('directly', 'RB'),\n",
       " ('into', 'IN'),\n",
       " ('the', 'DT'),\n",
       " ('zipper', 'NN'),\n",
       " ('it', 'PRP'),\n",
       " ('c', 'VBD')]"
      ]
     },
     "execution_count": 24,
     "metadata": {},
     "output_type": "execute_result"
    }
   ],
   "source": [
    "tagged = nltk.pos_tag(tokens)\n",
    "tagged"
   ]
  },
  {
   "cell_type": "code",
   "execution_count": 25,
   "id": "523ccc18",
   "metadata": {
    "scrolled": true
   },
   "outputs": [
    {
     "name": "stdout",
     "output_type": "stream",
     "text": [
      "(S\n",
      "  I/PRP\n",
      "  had/VBD\n",
      "  such/JJ\n",
      "  high/JJ\n",
      "  hopes/NNS\n",
      "  for/IN\n",
      "  this/DT\n",
      "  dress/NN\n",
      "  and/CC\n",
      "  really/RB\n",
      "  wanted/VBD\n",
      "  it/PRP\n",
      "  to/TO\n",
      "  work/VB\n",
      "  for/IN\n",
      "  me/PRP\n",
      "  i/VBP\n",
      "  initially/RB\n",
      "  ordered/VBN\n",
      "  the/DT\n",
      "  petite/NN\n",
      "  small/JJ\n",
      "  my/PRP$\n",
      "  usual/JJ\n",
      "  size/NN\n",
      "  but/CC\n",
      "  i/NN\n",
      "  found/VBD\n",
      "  this/DT\n",
      "  to/TO\n",
      "  be/VB\n",
      "  outrageously/RB\n",
      "  small/JJ\n",
      "  so/RB\n",
      "  small/JJ\n",
      "  in/IN\n",
      "  fact/NN\n",
      "  that/IN\n",
      "  i/NN\n",
      "  could/MD\n",
      "  not/RB\n",
      "  zip/VB\n",
      "  it/PRP\n",
      "  up/RP\n",
      "  i/RB\n",
      "  reordered/VBD\n",
      "  it/PRP\n",
      "  in/IN\n",
      "  petite/JJ\n",
      "  medium/NN\n",
      "  which/WDT\n",
      "  was/VBD\n",
      "  just/RB\n",
      "  ok/JJ\n",
      "  overall/JJ\n",
      "  the/DT\n",
      "  top/JJ\n",
      "  half/NN\n",
      "  was/VBD\n",
      "  comfortable/JJ\n",
      "  and/CC\n",
      "  fit/JJ\n",
      "  nicely/RB\n",
      "  but/CC\n",
      "  the/DT\n",
      "  bottom/JJ\n",
      "  half/NN\n",
      "  had/VBD\n",
      "  a/DT\n",
      "  very/RB\n",
      "  tight/JJ\n",
      "  under/IN\n",
      "  layer/NN\n",
      "  and/CC\n",
      "  several/JJ\n",
      "  somewhat/RB\n",
      "  cheap/JJ\n",
      "  net/NN\n",
      "  over/IN\n",
      "  layers/NNS\n",
      "  imo/VBP\n",
      "  a/DT\n",
      "  major/JJ\n",
      "  design/NN\n",
      "  flaw/NN\n",
      "  was/VBD\n",
      "  the/DT\n",
      "  net/JJ\n",
      "  over/IN\n",
      "  layer/NN\n",
      "  sewn/NN\n",
      "  directly/RB\n",
      "  into/IN\n",
      "  the/DT\n",
      "  zipper/NN\n",
      "  it/PRP\n",
      "  c/VBD)\n"
     ]
    }
   ],
   "source": [
    "entities = nltk.chunk.ne_chunk(tagged)\n",
    "entities.pprint()"
   ]
  },
  {
   "cell_type": "markdown",
   "id": "93fae45b",
   "metadata": {},
   "source": [
    "## DATA TRANSFORMATION"
   ]
  },
  {
   "cell_type": "code",
   "execution_count": 26,
   "id": "a3c362eb",
   "metadata": {},
   "outputs": [],
   "source": [
    "X = df['Review Text']\n",
    "y = df['Rating']"
   ]
  },
  {
   "cell_type": "code",
   "execution_count": 28,
   "id": "4cfe413b",
   "metadata": {},
   "outputs": [],
   "source": [
    "from custom_tokenizer_function import CustomTokenizer"
   ]
  },
  {
   "cell_type": "code",
   "execution_count": 29,
   "id": "d44568bb",
   "metadata": {},
   "outputs": [
    {
     "name": "stdout",
     "output_type": "stream",
     "text": [
      "import spacy\n",
      "nlp = spacy.load('en_core_web_sm')\n",
      "\n",
      "import string\n",
      "punct = string.punctuation\n",
      "# punct\n",
      "\n",
      "from spacy.lang.en.stop_words import STOP_WORDS\n",
      "stopwords = list(STOP_WORDS) # list of stopwords\n",
      "\n",
      "class CustomTokenizer():\n",
      "    def __init__(self):\n",
      "        pass\n",
      "\n",
      "    def text_data_cleaning(self,sentence):\n",
      "        doc = nlp(sentence)                         # spaCy tokenize text & call doc components, in order\n",
      "\n",
      "        tokens = [] # list of tokens\n",
      "        for token in doc:\n",
      "            if token.lemma_ != \"-PRON-\":\n",
      "                temp = token.lemma_.lower().strip()\n",
      "            else:\n",
      "              temp = token.lower_\n",
      "            tokens.append(temp)\n",
      "\n",
      "        cleaned_tokens = []\n",
      "        for token in tokens:\n",
      "            if token not in stopwords and token not in punct:\n",
      "                cleaned_tokens.append(token)\n",
      "        return cleaned_tokens\n"
     ]
    }
   ],
   "source": [
    "! type custom_tokenizer_function.py"
   ]
  },
  {
   "cell_type": "code",
   "execution_count": 30,
   "id": "2c58247c",
   "metadata": {
    "scrolled": true
   },
   "outputs": [
    {
     "data": {
      "text/plain": [
       "['high',\n",
       " 'hope',\n",
       " 'dress',\n",
       " 'want',\n",
       " 'work',\n",
       " 'initially',\n",
       " 'order',\n",
       " 'petite',\n",
       " 'small',\n",
       " 'usual',\n",
       " 'size',\n",
       " 'find',\n",
       " 'outrageously',\n",
       " 'small',\n",
       " 'small',\n",
       " 'fact',\n",
       " 'zip',\n",
       " 'reorder',\n",
       " 'petite',\n",
       " 'medium',\n",
       " 'ok',\n",
       " 'overall',\n",
       " 'half',\n",
       " 'comfortable',\n",
       " 'fit',\n",
       " 'nicely',\n",
       " 'half',\n",
       " 'tight',\n",
       " 'layer',\n",
       " 'somewhat',\n",
       " 'cheap',\n",
       " 'net',\n",
       " 'layer',\n",
       " 'imo',\n",
       " 'major',\n",
       " 'design',\n",
       " 'flaw',\n",
       " 'net',\n",
       " 'layer',\n",
       " 'sew',\n",
       " 'directly',\n",
       " 'zipper',\n",
       " 'c']"
      ]
     },
     "execution_count": 30,
     "metadata": {},
     "output_type": "execute_result"
    }
   ],
   "source": [
    "# Lets do a test\n",
    "token = CustomTokenizer()\n",
    "token.text_data_cleaning(cleaned_example)"
   ]
  },
  {
   "cell_type": "markdown",
   "id": "bc0848c2",
   "metadata": {},
   "source": [
    "## TF-IDF Vectorizer"
   ]
  },
  {
   "cell_type": "code",
   "execution_count": 31,
   "id": "7dd142c1",
   "metadata": {},
   "outputs": [],
   "source": [
    "from sklearn.feature_extraction.text import TfidfVectorizer"
   ]
  },
  {
   "cell_type": "code",
   "execution_count": 32,
   "id": "ca7e5434",
   "metadata": {},
   "outputs": [],
   "source": [
    "tfidf = TfidfVectorizer(tokenizer=token.text_data_cleaning)"
   ]
  },
  {
   "cell_type": "code",
   "execution_count": 34,
   "id": "3ba3528e",
   "metadata": {},
   "outputs": [],
   "source": [
    "from sklearn.model_selection import train_test_split\n",
    "X_train, X_test, y_train, y_test = train_test_split(X, y, test_size = 0.2, stratify = df.Rating, random_state= 0 )"
   ]
  },
  {
   "cell_type": "code",
   "execution_count": 35,
   "id": "878bceef",
   "metadata": {},
   "outputs": [
    {
     "data": {
      "text/plain": [
       "((18112,), (4529,))"
      ]
     },
     "execution_count": 35,
     "metadata": {},
     "output_type": "execute_result"
    }
   ],
   "source": [
    "X_train.shape, X_test.shape"
   ]
  },
  {
   "cell_type": "code",
   "execution_count": 36,
   "id": "10c0f1b5",
   "metadata": {
    "scrolled": true
   },
   "outputs": [
    {
     "data": {
      "text/plain": [
       "578      Was drawn to this dress in the store. my locat...\n",
       "9240     Beautiful! caught my eye online. i had to orde...\n",
       "23123    I usually wear an 8, which wasn't available, a...\n",
       "2414     Great casual jacket! it's a nice spring weight...\n",
       "17157    I fell in love with this dress in the store an...\n",
       "Name: Review Text, dtype: object"
      ]
     },
     "execution_count": 36,
     "metadata": {},
     "output_type": "execute_result"
    }
   ],
   "source": [
    "X_train.head()"
   ]
  },
  {
   "cell_type": "markdown",
   "id": "8e35677c",
   "metadata": {},
   "source": [
    "## Naive Bayes using SKLearn Pipeline"
   ]
  },
  {
   "cell_type": "code",
   "execution_count": 37,
   "id": "c63d6432",
   "metadata": {},
   "outputs": [],
   "source": [
    "# fir x_train and y_train\n",
    "\n",
    "from sklearn.svm import LinearSVC\n",
    "from sklearn.pipeline import Pipeline\n",
    "from sklearn.naive_bayes import MultinomialNB"
   ]
  },
  {
   "cell_type": "code",
   "execution_count": 38,
   "id": "ed0df4ea",
   "metadata": {},
   "outputs": [],
   "source": [
    "model1 = MultinomialNB()"
   ]
  },
  {
   "cell_type": "code",
   "execution_count": 39,
   "id": "478cc701",
   "metadata": {},
   "outputs": [
    {
     "name": "stderr",
     "output_type": "stream",
     "text": [
      "C:\\Users\\hemen\\AppData\\Roaming\\Python\\Python311\\site-packages\\sklearn\\feature_extraction\\text.py:525: UserWarning: The parameter 'token_pattern' will not be used since 'tokenizer' is not None'\n",
      "  warnings.warn(\n"
     ]
    },
    {
     "data": {
      "text/html": [
       "<style>#sk-container-id-1 {color: black;}#sk-container-id-1 pre{padding: 0;}#sk-container-id-1 div.sk-toggleable {background-color: white;}#sk-container-id-1 label.sk-toggleable__label {cursor: pointer;display: block;width: 100%;margin-bottom: 0;padding: 0.3em;box-sizing: border-box;text-align: center;}#sk-container-id-1 label.sk-toggleable__label-arrow:before {content: \"▸\";float: left;margin-right: 0.25em;color: #696969;}#sk-container-id-1 label.sk-toggleable__label-arrow:hover:before {color: black;}#sk-container-id-1 div.sk-estimator:hover label.sk-toggleable__label-arrow:before {color: black;}#sk-container-id-1 div.sk-toggleable__content {max-height: 0;max-width: 0;overflow: hidden;text-align: left;background-color: #f0f8ff;}#sk-container-id-1 div.sk-toggleable__content pre {margin: 0.2em;color: black;border-radius: 0.25em;background-color: #f0f8ff;}#sk-container-id-1 input.sk-toggleable__control:checked~div.sk-toggleable__content {max-height: 200px;max-width: 100%;overflow: auto;}#sk-container-id-1 input.sk-toggleable__control:checked~label.sk-toggleable__label-arrow:before {content: \"▾\";}#sk-container-id-1 div.sk-estimator input.sk-toggleable__control:checked~label.sk-toggleable__label {background-color: #d4ebff;}#sk-container-id-1 div.sk-label input.sk-toggleable__control:checked~label.sk-toggleable__label {background-color: #d4ebff;}#sk-container-id-1 input.sk-hidden--visually {border: 0;clip: rect(1px 1px 1px 1px);clip: rect(1px, 1px, 1px, 1px);height: 1px;margin: -1px;overflow: hidden;padding: 0;position: absolute;width: 1px;}#sk-container-id-1 div.sk-estimator {font-family: monospace;background-color: #f0f8ff;border: 1px dotted black;border-radius: 0.25em;box-sizing: border-box;margin-bottom: 0.5em;}#sk-container-id-1 div.sk-estimator:hover {background-color: #d4ebff;}#sk-container-id-1 div.sk-parallel-item::after {content: \"\";width: 100%;border-bottom: 1px solid gray;flex-grow: 1;}#sk-container-id-1 div.sk-label:hover label.sk-toggleable__label {background-color: #d4ebff;}#sk-container-id-1 div.sk-serial::before {content: \"\";position: absolute;border-left: 1px solid gray;box-sizing: border-box;top: 0;bottom: 0;left: 50%;z-index: 0;}#sk-container-id-1 div.sk-serial {display: flex;flex-direction: column;align-items: center;background-color: white;padding-right: 0.2em;padding-left: 0.2em;position: relative;}#sk-container-id-1 div.sk-item {position: relative;z-index: 1;}#sk-container-id-1 div.sk-parallel {display: flex;align-items: stretch;justify-content: center;background-color: white;position: relative;}#sk-container-id-1 div.sk-item::before, #sk-container-id-1 div.sk-parallel-item::before {content: \"\";position: absolute;border-left: 1px solid gray;box-sizing: border-box;top: 0;bottom: 0;left: 50%;z-index: -1;}#sk-container-id-1 div.sk-parallel-item {display: flex;flex-direction: column;z-index: 1;position: relative;background-color: white;}#sk-container-id-1 div.sk-parallel-item:first-child::after {align-self: flex-end;width: 50%;}#sk-container-id-1 div.sk-parallel-item:last-child::after {align-self: flex-start;width: 50%;}#sk-container-id-1 div.sk-parallel-item:only-child::after {width: 0;}#sk-container-id-1 div.sk-dashed-wrapped {border: 1px dashed gray;margin: 0 0.4em 0.5em 0.4em;box-sizing: border-box;padding-bottom: 0.4em;background-color: white;}#sk-container-id-1 div.sk-label label {font-family: monospace;font-weight: bold;display: inline-block;line-height: 1.2em;}#sk-container-id-1 div.sk-label-container {text-align: center;}#sk-container-id-1 div.sk-container {/* jupyter's `normalize.less` sets `[hidden] { display: none; }` but bootstrap.min.css set `[hidden] { display: none !important; }` so we also need the `!important` here to be able to override the default hidden behavior on the sphinx rendered scikit-learn.org. See: https://github.com/scikit-learn/scikit-learn/issues/21755 */display: inline-block !important;position: relative;}#sk-container-id-1 div.sk-text-repr-fallback {display: none;}</style><div id=\"sk-container-id-1\" class=\"sk-top-container\"><div class=\"sk-text-repr-fallback\"><pre>TfidfVectorizer(tokenizer=&lt;bound method CustomTokenizer.text_data_cleaning of &lt;custom_tokenizer_function.CustomTokenizer object at 0x000001DEF9AB54D0&gt;&gt;)</pre><b>In a Jupyter environment, please rerun this cell to show the HTML representation or trust the notebook. <br />On GitHub, the HTML representation is unable to render, please try loading this page with nbviewer.org.</b></div><div class=\"sk-container\" hidden><div class=\"sk-item\"><div class=\"sk-estimator sk-toggleable\"><input class=\"sk-toggleable__control sk-hidden--visually\" id=\"sk-estimator-id-1\" type=\"checkbox\" checked><label for=\"sk-estimator-id-1\" class=\"sk-toggleable__label sk-toggleable__label-arrow\">TfidfVectorizer</label><div class=\"sk-toggleable__content\"><pre>TfidfVectorizer(tokenizer=&lt;bound method CustomTokenizer.text_data_cleaning of &lt;custom_tokenizer_function.CustomTokenizer object at 0x000001DEF9AB54D0&gt;&gt;)</pre></div></div></div></div></div>"
      ],
      "text/plain": [
       "TfidfVectorizer(tokenizer=<bound method CustomTokenizer.text_data_cleaning of <custom_tokenizer_function.CustomTokenizer object at 0x000001DEF9AB54D0>>)"
      ]
     },
     "execution_count": 39,
     "metadata": {},
     "output_type": "execute_result"
    }
   ],
   "source": [
    "tfidf.fit(X_train)"
   ]
  },
  {
   "cell_type": "code",
   "execution_count": 40,
   "id": "12e3c948",
   "metadata": {},
   "outputs": [],
   "source": [
    "pipeline1 = Pipeline([('tfidf', tfidf),('NB',model1)])"
   ]
  },
  {
   "cell_type": "code",
   "execution_count": 41,
   "id": "4b92153d",
   "metadata": {},
   "outputs": [
    {
     "data": {
      "text/html": [
       "<style>#sk-container-id-2 {color: black;}#sk-container-id-2 pre{padding: 0;}#sk-container-id-2 div.sk-toggleable {background-color: white;}#sk-container-id-2 label.sk-toggleable__label {cursor: pointer;display: block;width: 100%;margin-bottom: 0;padding: 0.3em;box-sizing: border-box;text-align: center;}#sk-container-id-2 label.sk-toggleable__label-arrow:before {content: \"▸\";float: left;margin-right: 0.25em;color: #696969;}#sk-container-id-2 label.sk-toggleable__label-arrow:hover:before {color: black;}#sk-container-id-2 div.sk-estimator:hover label.sk-toggleable__label-arrow:before {color: black;}#sk-container-id-2 div.sk-toggleable__content {max-height: 0;max-width: 0;overflow: hidden;text-align: left;background-color: #f0f8ff;}#sk-container-id-2 div.sk-toggleable__content pre {margin: 0.2em;color: black;border-radius: 0.25em;background-color: #f0f8ff;}#sk-container-id-2 input.sk-toggleable__control:checked~div.sk-toggleable__content {max-height: 200px;max-width: 100%;overflow: auto;}#sk-container-id-2 input.sk-toggleable__control:checked~label.sk-toggleable__label-arrow:before {content: \"▾\";}#sk-container-id-2 div.sk-estimator input.sk-toggleable__control:checked~label.sk-toggleable__label {background-color: #d4ebff;}#sk-container-id-2 div.sk-label input.sk-toggleable__control:checked~label.sk-toggleable__label {background-color: #d4ebff;}#sk-container-id-2 input.sk-hidden--visually {border: 0;clip: rect(1px 1px 1px 1px);clip: rect(1px, 1px, 1px, 1px);height: 1px;margin: -1px;overflow: hidden;padding: 0;position: absolute;width: 1px;}#sk-container-id-2 div.sk-estimator {font-family: monospace;background-color: #f0f8ff;border: 1px dotted black;border-radius: 0.25em;box-sizing: border-box;margin-bottom: 0.5em;}#sk-container-id-2 div.sk-estimator:hover {background-color: #d4ebff;}#sk-container-id-2 div.sk-parallel-item::after {content: \"\";width: 100%;border-bottom: 1px solid gray;flex-grow: 1;}#sk-container-id-2 div.sk-label:hover label.sk-toggleable__label {background-color: #d4ebff;}#sk-container-id-2 div.sk-serial::before {content: \"\";position: absolute;border-left: 1px solid gray;box-sizing: border-box;top: 0;bottom: 0;left: 50%;z-index: 0;}#sk-container-id-2 div.sk-serial {display: flex;flex-direction: column;align-items: center;background-color: white;padding-right: 0.2em;padding-left: 0.2em;position: relative;}#sk-container-id-2 div.sk-item {position: relative;z-index: 1;}#sk-container-id-2 div.sk-parallel {display: flex;align-items: stretch;justify-content: center;background-color: white;position: relative;}#sk-container-id-2 div.sk-item::before, #sk-container-id-2 div.sk-parallel-item::before {content: \"\";position: absolute;border-left: 1px solid gray;box-sizing: border-box;top: 0;bottom: 0;left: 50%;z-index: -1;}#sk-container-id-2 div.sk-parallel-item {display: flex;flex-direction: column;z-index: 1;position: relative;background-color: white;}#sk-container-id-2 div.sk-parallel-item:first-child::after {align-self: flex-end;width: 50%;}#sk-container-id-2 div.sk-parallel-item:last-child::after {align-self: flex-start;width: 50%;}#sk-container-id-2 div.sk-parallel-item:only-child::after {width: 0;}#sk-container-id-2 div.sk-dashed-wrapped {border: 1px dashed gray;margin: 0 0.4em 0.5em 0.4em;box-sizing: border-box;padding-bottom: 0.4em;background-color: white;}#sk-container-id-2 div.sk-label label {font-family: monospace;font-weight: bold;display: inline-block;line-height: 1.2em;}#sk-container-id-2 div.sk-label-container {text-align: center;}#sk-container-id-2 div.sk-container {/* jupyter's `normalize.less` sets `[hidden] { display: none; }` but bootstrap.min.css set `[hidden] { display: none !important; }` so we also need the `!important` here to be able to override the default hidden behavior on the sphinx rendered scikit-learn.org. See: https://github.com/scikit-learn/scikit-learn/issues/21755 */display: inline-block !important;position: relative;}#sk-container-id-2 div.sk-text-repr-fallback {display: none;}</style><div id=\"sk-container-id-2\" class=\"sk-top-container\"><div class=\"sk-text-repr-fallback\"><pre>Pipeline(steps=[(&#x27;tfidf&#x27;,\n",
       "                 TfidfVectorizer(tokenizer=&lt;bound method CustomTokenizer.text_data_cleaning of &lt;custom_tokenizer_function.CustomTokenizer object at 0x000001DEF9AB54D0&gt;&gt;)),\n",
       "                (&#x27;NB&#x27;, MultinomialNB())])</pre><b>In a Jupyter environment, please rerun this cell to show the HTML representation or trust the notebook. <br />On GitHub, the HTML representation is unable to render, please try loading this page with nbviewer.org.</b></div><div class=\"sk-container\" hidden><div class=\"sk-item sk-dashed-wrapped\"><div class=\"sk-label-container\"><div class=\"sk-label sk-toggleable\"><input class=\"sk-toggleable__control sk-hidden--visually\" id=\"sk-estimator-id-2\" type=\"checkbox\" ><label for=\"sk-estimator-id-2\" class=\"sk-toggleable__label sk-toggleable__label-arrow\">Pipeline</label><div class=\"sk-toggleable__content\"><pre>Pipeline(steps=[(&#x27;tfidf&#x27;,\n",
       "                 TfidfVectorizer(tokenizer=&lt;bound method CustomTokenizer.text_data_cleaning of &lt;custom_tokenizer_function.CustomTokenizer object at 0x000001DEF9AB54D0&gt;&gt;)),\n",
       "                (&#x27;NB&#x27;, MultinomialNB())])</pre></div></div></div><div class=\"sk-serial\"><div class=\"sk-item\"><div class=\"sk-estimator sk-toggleable\"><input class=\"sk-toggleable__control sk-hidden--visually\" id=\"sk-estimator-id-3\" type=\"checkbox\" ><label for=\"sk-estimator-id-3\" class=\"sk-toggleable__label sk-toggleable__label-arrow\">TfidfVectorizer</label><div class=\"sk-toggleable__content\"><pre>TfidfVectorizer(tokenizer=&lt;bound method CustomTokenizer.text_data_cleaning of &lt;custom_tokenizer_function.CustomTokenizer object at 0x000001DEF9AB54D0&gt;&gt;)</pre></div></div></div><div class=\"sk-item\"><div class=\"sk-estimator sk-toggleable\"><input class=\"sk-toggleable__control sk-hidden--visually\" id=\"sk-estimator-id-4\" type=\"checkbox\" ><label for=\"sk-estimator-id-4\" class=\"sk-toggleable__label sk-toggleable__label-arrow\">MultinomialNB</label><div class=\"sk-toggleable__content\"><pre>MultinomialNB()</pre></div></div></div></div></div></div></div>"
      ],
      "text/plain": [
       "Pipeline(steps=[('tfidf',\n",
       "                 TfidfVectorizer(tokenizer=<bound method CustomTokenizer.text_data_cleaning of <custom_tokenizer_function.CustomTokenizer object at 0x000001DEF9AB54D0>>)),\n",
       "                ('NB', MultinomialNB())])"
      ]
     },
     "execution_count": 41,
     "metadata": {},
     "output_type": "execute_result"
    }
   ],
   "source": [
    "pipeline1.fit(X_train, y_train)\n"
   ]
  },
  {
   "cell_type": "code",
   "execution_count": 42,
   "id": "623106b5",
   "metadata": {},
   "outputs": [],
   "source": [
    "y_pred1 = pipeline1.predict(X_test)"
   ]
  },
  {
   "cell_type": "code",
   "execution_count": 43,
   "id": "cc5f9dfd",
   "metadata": {},
   "outputs": [],
   "source": [
    "from sklearn.metrics import accuracy_score, classification_report, confusion_matrix"
   ]
  },
  {
   "cell_type": "code",
   "execution_count": 44,
   "id": "05001f98",
   "metadata": {},
   "outputs": [
    {
     "data": {
      "text/plain": [
       "array([[1238,  783],\n",
       "       [ 246, 2262]], dtype=int64)"
      ]
     },
     "execution_count": 44,
     "metadata": {},
     "output_type": "execute_result"
    }
   ],
   "source": [
    "confusion_matrix(y_test, y_pred1)"
   ]
  },
  {
   "cell_type": "code",
   "execution_count": 45,
   "id": "c854513a",
   "metadata": {},
   "outputs": [
    {
     "data": {
      "image/png": "[encoded data removed]",
      "text/plain": [
       "<Figure size 640x480 with 2 Axes>"
      ]
     },
     "metadata": {},
     "output_type": "display_data"
    }
   ],
   "source": [
    "from sklearn.metrics import confusion_matrix\n",
    "import seaborn as sns\n",
    "import matplotlib.pyplot as plt\n",
    "\n",
    "# Assuming y_true and y_pred are your true and predicted labels\n",
    "conf_matrix = confusion_matrix(y_test, y_pred1)\n",
    "\n",
    "# Confusion Matrix\n",
    "sns.heatmap(conf_matrix, annot=True, fmt=\"d\", cmap=\"Blues\")\n",
    "plt.title(\"Confusion Matrix\")\n",
    "plt.show()\n"
   ]
  },
  {
   "cell_type": "code",
   "execution_count": 46,
   "id": "893774d1",
   "metadata": {},
   "outputs": [
    {
     "name": "stdout",
     "output_type": "stream",
     "text": [
      "              precision    recall  f1-score   support\n",
      "\n",
      "    negative       0.83      0.61      0.71      2021\n",
      "    positive       0.74      0.90      0.81      2508\n",
      "\n",
      "    accuracy                           0.77      4529\n",
      "   macro avg       0.79      0.76      0.76      4529\n",
      "weighted avg       0.78      0.77      0.77      4529\n",
      "\n"
     ]
    }
   ],
   "source": [
    "print(classification_report(y_test, y_pred1))"
   ]
  },
  {
   "cell_type": "code",
   "execution_count": 50,
   "id": "3cc72f2d",
   "metadata": {},
   "outputs": [
    {
     "name": "stdout",
     "output_type": "stream",
     "text": [
      "ROC AUC Score: 0.7572409556120069\n"
     ]
    }
   ],
   "source": [
    "from sklearn.preprocessing import LabelEncoder\n",
    "from sklearn.metrics import roc_auc_score\n",
    "\n",
    "# Assuming y_test, y_pred1 are your true labels and predicted probabilities\n",
    "# Convert string labels to numeric values\n",
    "label_encoder = LabelEncoder()\n",
    "y_test_numeric = label_encoder.fit_transform(y_test)\n",
    "y_pred1_numeric = label_encoder.transform(y_pred1)\n",
    "\n",
    "# Calculate ROC AUC score\n",
    "roc_auc = roc_auc_score(y_test_numeric, y_pred1_numeric)\n",
    "print(\"ROC AUC Score:\", roc_auc)\n"
   ]
  },
  {
   "cell_type": "code",
   "execution_count": 52,
   "id": "456c1848",
   "metadata": {},
   "outputs": [
    {
     "data": {
      "image/png": "[encoded data removed]",
      "text/plain": [
       "<Figure size 1000x600 with 1 Axes>"
      ]
     },
     "metadata": {},
     "output_type": "display_data"
    }
   ],
   "source": [
    "from sklearn.metrics import roc_curve, auc\n",
    "import matplotlib.pyplot as plt\n",
    "\n",
    "# Assuming y_true is your true labels and y_pred_probs is the predicted probabilities for the positive class\n",
    "fpr, tpr, thresholds = roc_curve(y_test_numeric, y_pred1_numeric)\n",
    "roc_auc = auc(fpr, tpr)\n",
    "\n",
    "# Plot ROC Curve\n",
    "plt.figure(figsize=(10, 6))\n",
    "plt.plot(fpr, tpr, color='darkorange', lw=2, label='ROC curve (area = {:.2f})'.format(roc_auc))\n",
    "plt.plot([0, 1], [0, 1], color='navy', lw=2, linestyle='--')\n",
    "plt.xlabel('False Positive Rate')\n",
    "plt.ylabel('True Positive Rate')\n",
    "plt.title('Receiver Operating Characteristic (ROC) Curve')\n",
    "plt.legend(loc=\"lower right\")\n",
    "plt.show()\n"
   ]
  },
  {
   "cell_type": "markdown",
   "id": "ff3f67ee",
   "metadata": {},
   "source": [
    "## Random Forest Classifier"
   ]
  },
  {
   "cell_type": "code",
   "execution_count": 56,
   "id": "e63e5b12",
   "metadata": {},
   "outputs": [],
   "source": [
    "from sklearn.ensemble import RandomForestClassifier\n",
    "from sklearn.feature_extraction.text import TfidfVectorizer\n",
    "from sklearn.pipeline import Pipeline\n",
    "from sklearn.metrics import accuracy_score, classification_report, confusion_matrix, roc_auc_score\n",
    "from sklearn.preprocessing import LabelEncoder\n",
    "from sklearn.model_selection import train_test_split\n",
    "import seaborn as sns\n",
    "import matplotlib.pyplot as plt\n",
    "\n",
    "\n",
    "\n",
    "# Create a Random Forest classifier\n",
    "model_rf = RandomForestClassifier(n_estimators=100, random_state=42)\n"
   ]
  },
  {
   "cell_type": "code",
   "execution_count": 57,
   "id": "eb502201",
   "metadata": {},
   "outputs": [],
   "source": [
    "# Create a TF-IDF vectorizer\n",
    "tfidf = TfidfVectorizer()"
   ]
  },
  {
   "cell_type": "code",
   "execution_count": 58,
   "id": "6003d503",
   "metadata": {},
   "outputs": [],
   "source": [
    "# Create a pipeline\n",
    "pipeline_rf = Pipeline([\n",
    "    ('tfidf', tfidf),\n",
    "    ('RF', model_rf)\n",
    "])"
   ]
  },
  {
   "cell_type": "code",
   "execution_count": 59,
   "id": "147640de",
   "metadata": {},
   "outputs": [
    {
     "data": {
      "text/html": [
       "<style>#sk-container-id-3 {color: black;}#sk-container-id-3 pre{padding: 0;}#sk-container-id-3 div.sk-toggleable {background-color: white;}#sk-container-id-3 label.sk-toggleable__label {cursor: pointer;display: block;width: 100%;margin-bottom: 0;padding: 0.3em;box-sizing: border-box;text-align: center;}#sk-container-id-3 label.sk-toggleable__label-arrow:before {content: \"▸\";float: left;margin-right: 0.25em;color: #696969;}#sk-container-id-3 label.sk-toggleable__label-arrow:hover:before {color: black;}#sk-container-id-3 div.sk-estimator:hover label.sk-toggleable__label-arrow:before {color: black;}#sk-container-id-3 div.sk-toggleable__content {max-height: 0;max-width: 0;overflow: hidden;text-align: left;background-color: #f0f8ff;}#sk-container-id-3 div.sk-toggleable__content pre {margin: 0.2em;color: black;border-radius: 0.25em;background-color: #f0f8ff;}#sk-container-id-3 input.sk-toggleable__control:checked~div.sk-toggleable__content {max-height: 200px;max-width: 100%;overflow: auto;}#sk-container-id-3 input.sk-toggleable__control:checked~label.sk-toggleable__label-arrow:before {content: \"▾\";}#sk-container-id-3 div.sk-estimator input.sk-toggleable__control:checked~label.sk-toggleable__label {background-color: #d4ebff;}#sk-container-id-3 div.sk-label input.sk-toggleable__control:checked~label.sk-toggleable__label {background-color: #d4ebff;}#sk-container-id-3 input.sk-hidden--visually {border: 0;clip: rect(1px 1px 1px 1px);clip: rect(1px, 1px, 1px, 1px);height: 1px;margin: -1px;overflow: hidden;padding: 0;position: absolute;width: 1px;}#sk-container-id-3 div.sk-estimator {font-family: monospace;background-color: #f0f8ff;border: 1px dotted black;border-radius: 0.25em;box-sizing: border-box;margin-bottom: 0.5em;}#sk-container-id-3 div.sk-estimator:hover {background-color: #d4ebff;}#sk-container-id-3 div.sk-parallel-item::after {content: \"\";width: 100%;border-bottom: 1px solid gray;flex-grow: 1;}#sk-container-id-3 div.sk-label:hover label.sk-toggleable__label {background-color: #d4ebff;}#sk-container-id-3 div.sk-serial::before {content: \"\";position: absolute;border-left: 1px solid gray;box-sizing: border-box;top: 0;bottom: 0;left: 50%;z-index: 0;}#sk-container-id-3 div.sk-serial {display: flex;flex-direction: column;align-items: center;background-color: white;padding-right: 0.2em;padding-left: 0.2em;position: relative;}#sk-container-id-3 div.sk-item {position: relative;z-index: 1;}#sk-container-id-3 div.sk-parallel {display: flex;align-items: stretch;justify-content: center;background-color: white;position: relative;}#sk-container-id-3 div.sk-item::before, #sk-container-id-3 div.sk-parallel-item::before {content: \"\";position: absolute;border-left: 1px solid gray;box-sizing: border-box;top: 0;bottom: 0;left: 50%;z-index: -1;}#sk-container-id-3 div.sk-parallel-item {display: flex;flex-direction: column;z-index: 1;position: relative;background-color: white;}#sk-container-id-3 div.sk-parallel-item:first-child::after {align-self: flex-end;width: 50%;}#sk-container-id-3 div.sk-parallel-item:last-child::after {align-self: flex-start;width: 50%;}#sk-container-id-3 div.sk-parallel-item:only-child::after {width: 0;}#sk-container-id-3 div.sk-dashed-wrapped {border: 1px dashed gray;margin: 0 0.4em 0.5em 0.4em;box-sizing: border-box;padding-bottom: 0.4em;background-color: white;}#sk-container-id-3 div.sk-label label {font-family: monospace;font-weight: bold;display: inline-block;line-height: 1.2em;}#sk-container-id-3 div.sk-label-container {text-align: center;}#sk-container-id-3 div.sk-container {/* jupyter's `normalize.less` sets `[hidden] { display: none; }` but bootstrap.min.css set `[hidden] { display: none !important; }` so we also need the `!important` here to be able to override the default hidden behavior on the sphinx rendered scikit-learn.org. See: https://github.com/scikit-learn/scikit-learn/issues/21755 */display: inline-block !important;position: relative;}#sk-container-id-3 div.sk-text-repr-fallback {display: none;}</style><div id=\"sk-container-id-3\" class=\"sk-top-container\"><div class=\"sk-text-repr-fallback\"><pre>Pipeline(steps=[(&#x27;tfidf&#x27;, TfidfVectorizer()),\n",
       "                (&#x27;RF&#x27;, RandomForestClassifier(random_state=42))])</pre><b>In a Jupyter environment, please rerun this cell to show the HTML representation or trust the notebook. <br />On GitHub, the HTML representation is unable to render, please try loading this page with nbviewer.org.</b></div><div class=\"sk-container\" hidden><div class=\"sk-item sk-dashed-wrapped\"><div class=\"sk-label-container\"><div class=\"sk-label sk-toggleable\"><input class=\"sk-toggleable__control sk-hidden--visually\" id=\"sk-estimator-id-5\" type=\"checkbox\" ><label for=\"sk-estimator-id-5\" class=\"sk-toggleable__label sk-toggleable__label-arrow\">Pipeline</label><div class=\"sk-toggleable__content\"><pre>Pipeline(steps=[(&#x27;tfidf&#x27;, TfidfVectorizer()),\n",
       "                (&#x27;RF&#x27;, RandomForestClassifier(random_state=42))])</pre></div></div></div><div class=\"sk-serial\"><div class=\"sk-item\"><div class=\"sk-estimator sk-toggleable\"><input class=\"sk-toggleable__control sk-hidden--visually\" id=\"sk-estimator-id-6\" type=\"checkbox\" ><label for=\"sk-estimator-id-6\" class=\"sk-toggleable__label sk-toggleable__label-arrow\">TfidfVectorizer</label><div class=\"sk-toggleable__content\"><pre>TfidfVectorizer()</pre></div></div></div><div class=\"sk-item\"><div class=\"sk-estimator sk-toggleable\"><input class=\"sk-toggleable__control sk-hidden--visually\" id=\"sk-estimator-id-7\" type=\"checkbox\" ><label for=\"sk-estimator-id-7\" class=\"sk-toggleable__label sk-toggleable__label-arrow\">RandomForestClassifier</label><div class=\"sk-toggleable__content\"><pre>RandomForestClassifier(random_state=42)</pre></div></div></div></div></div></div></div>"
      ],
      "text/plain": [
       "Pipeline(steps=[('tfidf', TfidfVectorizer()),\n",
       "                ('RF', RandomForestClassifier(random_state=42))])"
      ]
     },
     "execution_count": 59,
     "metadata": {},
     "output_type": "execute_result"
    }
   ],
   "source": [
    "# Fit the pipeline on the training data\n",
    "pipeline_rf.fit(X_train, y_train)\n"
   ]
  },
  {
   "cell_type": "code",
   "execution_count": 60,
   "id": "a7e31249",
   "metadata": {},
   "outputs": [],
   "source": [
    "# Make predictions on the test data\n",
    "y_pred_rf = pipeline_rf.predict(X_test)\n"
   ]
  },
  {
   "cell_type": "code",
   "execution_count": 61,
   "id": "4aba937c",
   "metadata": {},
   "outputs": [
    {
     "name": "stdout",
     "output_type": "stream",
     "text": [
      "Accuracy: 0.7745639213954515\n"
     ]
    }
   ],
   "source": [
    "# Evaluate the model\n",
    "accuracy_rf = accuracy_score(y_test, y_pred_rf)\n",
    "print(\"Accuracy:\", accuracy_rf)\n"
   ]
  },
  {
   "cell_type": "code",
   "execution_count": 62,
   "id": "9f630f81",
   "metadata": {},
   "outputs": [
    {
     "data": {
      "image/png": "[encoded data removed]",
      "text/plain": [
       "<Figure size 640x480 with 2 Axes>"
      ]
     },
     "metadata": {},
     "output_type": "display_data"
    }
   ],
   "source": [
    "conf_matrix_rf = confusion_matrix(y_test, y_pred_rf)\n",
    "\n",
    "# Confusion Matrix\n",
    "sns.heatmap(conf_matrix_rf, annot=True, fmt=\"d\", cmap=\"Blues\")\n",
    "plt.title(\"Random Forest Confusion Matrix\")\n",
    "plt.show()"
   ]
  },
  {
   "cell_type": "code",
   "execution_count": 63,
   "id": "20ee91dd",
   "metadata": {},
   "outputs": [
    {
     "name": "stdout",
     "output_type": "stream",
     "text": [
      "Classification Report:\n",
      "              precision    recall  f1-score   support\n",
      "\n",
      "    negative       0.79      0.67      0.73      2021\n",
      "    positive       0.77      0.86      0.81      2508\n",
      "\n",
      "    accuracy                           0.77      4529\n",
      "   macro avg       0.78      0.76      0.77      4529\n",
      "weighted avg       0.78      0.77      0.77      4529\n",
      "\n"
     ]
    }
   ],
   "source": [
    "print(\"Classification Report:\")\n",
    "print(classification_report(y_test, y_pred_rf))"
   ]
  },
  {
   "cell_type": "code",
   "execution_count": 65,
   "id": "ba834ab7",
   "metadata": {},
   "outputs": [
    {
     "name": "stdout",
     "output_type": "stream",
     "text": [
      "ROC AUC Score: 0.7648408812729497\n"
     ]
    }
   ],
   "source": [
    "# Convert string labels to numeric values for ROC AUC calculation\n",
    "label_encoder_rf = LabelEncoder()\n",
    "y_test_numeric_rf = label_encoder_rf.fit_transform(y_test)\n",
    "y_pred_numeric_rf = label_encoder_rf.transform(y_pred_rf)\n",
    "\n",
    "# Calculate ROC AUC score\n",
    "roc_auc_rf = roc_auc_score(y_test_numeric_rf, y_pred_numeric_rf)\n",
    "print(\"ROC AUC Score:\", roc_auc_rf)"
   ]
  },
  {
   "cell_type": "markdown",
   "id": "f2f6d180",
   "metadata": {},
   "source": [
    "## XG BOOST "
   ]
  },
  {
   "cell_type": "code",
   "execution_count": 66,
   "id": "179d3204",
   "metadata": {},
   "outputs": [],
   "source": [
    "from xgboost import XGBClassifier\n",
    "from sklearn.feature_extraction.text import TfidfVectorizer\n",
    "from sklearn.pipeline import Pipeline\n",
    "from sklearn.metrics import accuracy_score, classification_report, confusion_matrix, roc_auc_score\n",
    "from sklearn.preprocessing import LabelEncoder\n",
    "from sklearn.model_selection import train_test_split\n",
    "import seaborn as sns\n",
    "import matplotlib.pyplot as plt\n"
   ]
  },
  {
   "cell_type": "code",
   "execution_count": 73,
   "id": "587f9ac2",
   "metadata": {},
   "outputs": [],
   "source": [
    "# Use LabelEncoder to convert string labels to numeric values\n",
    "label_encoder = LabelEncoder()\n",
    "y_encoded = label_encoder.fit_transform(y)\n"
   ]
  },
  {
   "cell_type": "code",
   "execution_count": null,
   "id": "81f0c919",
   "metadata": {},
   "outputs": [],
   "source": []
  },
  {
   "cell_type": "code",
   "execution_count": 77,
   "id": "0073e175",
   "metadata": {},
   "outputs": [
    {
     "name": "stdout",
     "output_type": "stream",
     "text": [
      "Unique values in y_train: [0 1]\n",
      "Unique values in y_test: [0 1]\n"
     ]
    }
   ],
   "source": [
    "# Use LabelEncoder to convert string labels to numeric values\n",
    "label_encoder = LabelEncoder()\n",
    "y_encoded = label_encoder.fit_transform(y)\n",
    "\n",
    "# Split the data into training and testing sets\n",
    "X_train, X_test, y_train, y_test = train_test_split(X, y_encoded, test_size=0.2, random_state=42)\n",
    "\n",
    "# Check unique values in y_train and y_test\n",
    "print(\"Unique values in y_train:\", np.unique(y_train))\n",
    "print(\"Unique values in y_test:\", np.unique(y_test))\n"
   ]
  },
  {
   "cell_type": "code",
   "execution_count": 78,
   "id": "f10e0d85",
   "metadata": {},
   "outputs": [],
   "source": [
    "# Create an XGBoost classifier\n",
    "model_xgb = XGBClassifier()\n",
    "\n",
    "# Create a TF-IDF vectorizer\n",
    "tfidf = TfidfVectorizer()\n",
    "\n",
    "# Create a pipeline\n",
    "pipeline_xgb = Pipeline([\n",
    "    ('tfidf', tfidf),\n",
    "    ('XGB', model_xgb)\n",
    "])\n"
   ]
  },
  {
   "cell_type": "code",
   "execution_count": 84,
   "id": "38f43061",
   "metadata": {},
   "outputs": [
    {
     "data": {
      "text/html": [
       "<style>#sk-container-id-4 {color: black;}#sk-container-id-4 pre{padding: 0;}#sk-container-id-4 div.sk-toggleable {background-color: white;}#sk-container-id-4 label.sk-toggleable__label {cursor: pointer;display: block;width: 100%;margin-bottom: 0;padding: 0.3em;box-sizing: border-box;text-align: center;}#sk-container-id-4 label.sk-toggleable__label-arrow:before {content: \"▸\";float: left;margin-right: 0.25em;color: #696969;}#sk-container-id-4 label.sk-toggleable__label-arrow:hover:before {color: black;}#sk-container-id-4 div.sk-estimator:hover label.sk-toggleable__label-arrow:before {color: black;}#sk-container-id-4 div.sk-toggleable__content {max-height: 0;max-width: 0;overflow: hidden;text-align: left;background-color: #f0f8ff;}#sk-container-id-4 div.sk-toggleable__content pre {margin: 0.2em;color: black;border-radius: 0.25em;background-color: #f0f8ff;}#sk-container-id-4 input.sk-toggleable__control:checked~div.sk-toggleable__content {max-height: 200px;max-width: 100%;overflow: auto;}#sk-container-id-4 input.sk-toggleable__control:checked~label.sk-toggleable__label-arrow:before {content: \"▾\";}#sk-container-id-4 div.sk-estimator input.sk-toggleable__control:checked~label.sk-toggleable__label {background-color: #d4ebff;}#sk-container-id-4 div.sk-label input.sk-toggleable__control:checked~label.sk-toggleable__label {background-color: #d4ebff;}#sk-container-id-4 input.sk-hidden--visually {border: 0;clip: rect(1px 1px 1px 1px);clip: rect(1px, 1px, 1px, 1px);height: 1px;margin: -1px;overflow: hidden;padding: 0;position: absolute;width: 1px;}#sk-container-id-4 div.sk-estimator {font-family: monospace;background-color: #f0f8ff;border: 1px dotted black;border-radius: 0.25em;box-sizing: border-box;margin-bottom: 0.5em;}#sk-container-id-4 div.sk-estimator:hover {background-color: #d4ebff;}#sk-container-id-4 div.sk-parallel-item::after {content: \"\";width: 100%;border-bottom: 1px solid gray;flex-grow: 1;}#sk-container-id-4 div.sk-label:hover label.sk-toggleable__label {background-color: #d4ebff;}#sk-container-id-4 div.sk-serial::before {content: \"\";position: absolute;border-left: 1px solid gray;box-sizing: border-box;top: 0;bottom: 0;left: 50%;z-index: 0;}#sk-container-id-4 div.sk-serial {display: flex;flex-direction: column;align-items: center;background-color: white;padding-right: 0.2em;padding-left: 0.2em;position: relative;}#sk-container-id-4 div.sk-item {position: relative;z-index: 1;}#sk-container-id-4 div.sk-parallel {display: flex;align-items: stretch;justify-content: center;background-color: white;position: relative;}#sk-container-id-4 div.sk-item::before, #sk-container-id-4 div.sk-parallel-item::before {content: \"\";position: absolute;border-left: 1px solid gray;box-sizing: border-box;top: 0;bottom: 0;left: 50%;z-index: -1;}#sk-container-id-4 div.sk-parallel-item {display: flex;flex-direction: column;z-index: 1;position: relative;background-color: white;}#sk-container-id-4 div.sk-parallel-item:first-child::after {align-self: flex-end;width: 50%;}#sk-container-id-4 div.sk-parallel-item:last-child::after {align-self: flex-start;width: 50%;}#sk-container-id-4 div.sk-parallel-item:only-child::after {width: 0;}#sk-container-id-4 div.sk-dashed-wrapped {border: 1px dashed gray;margin: 0 0.4em 0.5em 0.4em;box-sizing: border-box;padding-bottom: 0.4em;background-color: white;}#sk-container-id-4 div.sk-label label {font-family: monospace;font-weight: bold;display: inline-block;line-height: 1.2em;}#sk-container-id-4 div.sk-label-container {text-align: center;}#sk-container-id-4 div.sk-container {/* jupyter's `normalize.less` sets `[hidden] { display: none; }` but bootstrap.min.css set `[hidden] { display: none !important; }` so we also need the `!important` here to be able to override the default hidden behavior on the sphinx rendered scikit-learn.org. See: https://github.com/scikit-learn/scikit-learn/issues/21755 */display: inline-block !important;position: relative;}#sk-container-id-4 div.sk-text-repr-fallback {display: none;}</style><div id=\"sk-container-id-4\" class=\"sk-top-container\"><div class=\"sk-text-repr-fallback\"><pre>Pipeline(steps=[(&#x27;tfidf&#x27;, TfidfVectorizer()),\n",
       "                (&#x27;XGB&#x27;,\n",
       "                 XGBClassifier(base_score=None, booster=None, callbacks=None,\n",
       "                               colsample_bylevel=None, colsample_bynode=None,\n",
       "                               colsample_bytree=None, device=None,\n",
       "                               early_stopping_rounds=None,\n",
       "                               enable_categorical=False, eval_metric=None,\n",
       "                               feature_types=None, gamma=None, grow_policy=None,\n",
       "                               importance_type=None,\n",
       "                               interaction_constraints=None, learning_rate=None,\n",
       "                               max_bin=None, max_cat_threshold=None,\n",
       "                               max_cat_to_onehot=None, max_delta_step=None,\n",
       "                               max_depth=None, max_leaves=None,\n",
       "                               min_child_weight=None, missing=nan,\n",
       "                               monotone_constraints=None, multi_strategy=None,\n",
       "                               n_estimators=None, n_jobs=None,\n",
       "                               num_parallel_tree=None, random_state=None, ...))])</pre><b>In a Jupyter environment, please rerun this cell to show the HTML representation or trust the notebook. <br />On GitHub, the HTML representation is unable to render, please try loading this page with nbviewer.org.</b></div><div class=\"sk-container\" hidden><div class=\"sk-item sk-dashed-wrapped\"><div class=\"sk-label-container\"><div class=\"sk-label sk-toggleable\"><input class=\"sk-toggleable__control sk-hidden--visually\" id=\"sk-estimator-id-8\" type=\"checkbox\" ><label for=\"sk-estimator-id-8\" class=\"sk-toggleable__label sk-toggleable__label-arrow\">Pipeline</label><div class=\"sk-toggleable__content\"><pre>Pipeline(steps=[(&#x27;tfidf&#x27;, TfidfVectorizer()),\n",
       "                (&#x27;XGB&#x27;,\n",
       "                 XGBClassifier(base_score=None, booster=None, callbacks=None,\n",
       "                               colsample_bylevel=None, colsample_bynode=None,\n",
       "                               colsample_bytree=None, device=None,\n",
       "                               early_stopping_rounds=None,\n",
       "                               enable_categorical=False, eval_metric=None,\n",
       "                               feature_types=None, gamma=None, grow_policy=None,\n",
       "                               importance_type=None,\n",
       "                               interaction_constraints=None, learning_rate=None,\n",
       "                               max_bin=None, max_cat_threshold=None,\n",
       "                               max_cat_to_onehot=None, max_delta_step=None,\n",
       "                               max_depth=None, max_leaves=None,\n",
       "                               min_child_weight=None, missing=nan,\n",
       "                               monotone_constraints=None, multi_strategy=None,\n",
       "                               n_estimators=None, n_jobs=None,\n",
       "                               num_parallel_tree=None, random_state=None, ...))])</pre></div></div></div><div class=\"sk-serial\"><div class=\"sk-item\"><div class=\"sk-estimator sk-toggleable\"><input class=\"sk-toggleable__control sk-hidden--visually\" id=\"sk-estimator-id-9\" type=\"checkbox\" ><label for=\"sk-estimator-id-9\" class=\"sk-toggleable__label sk-toggleable__label-arrow\">TfidfVectorizer</label><div class=\"sk-toggleable__content\"><pre>TfidfVectorizer()</pre></div></div></div><div class=\"sk-item\"><div class=\"sk-estimator sk-toggleable\"><input class=\"sk-toggleable__control sk-hidden--visually\" id=\"sk-estimator-id-10\" type=\"checkbox\" ><label for=\"sk-estimator-id-10\" class=\"sk-toggleable__label sk-toggleable__label-arrow\">XGBClassifier</label><div class=\"sk-toggleable__content\"><pre>XGBClassifier(base_score=None, booster=None, callbacks=None,\n",
       "              colsample_bylevel=None, colsample_bynode=None,\n",
       "              colsample_bytree=None, device=None, early_stopping_rounds=None,\n",
       "              enable_categorical=False, eval_metric=None, feature_types=None,\n",
       "              gamma=None, grow_policy=None, importance_type=None,\n",
       "              interaction_constraints=None, learning_rate=None, max_bin=None,\n",
       "              max_cat_threshold=None, max_cat_to_onehot=None,\n",
       "              max_delta_step=None, max_depth=None, max_leaves=None,\n",
       "              min_child_weight=None, missing=nan, monotone_constraints=None,\n",
       "              multi_strategy=None, n_estimators=None, n_jobs=None,\n",
       "              num_parallel_tree=None, random_state=None, ...)</pre></div></div></div></div></div></div></div>"
      ],
      "text/plain": [
       "Pipeline(steps=[('tfidf', TfidfVectorizer()),\n",
       "                ('XGB',\n",
       "                 XGBClassifier(base_score=None, booster=None, callbacks=None,\n",
       "                               colsample_bylevel=None, colsample_bynode=None,\n",
       "                               colsample_bytree=None, device=None,\n",
       "                               early_stopping_rounds=None,\n",
       "                               enable_categorical=False, eval_metric=None,\n",
       "                               feature_types=None, gamma=None, grow_policy=None,\n",
       "                               importance_type=None,\n",
       "                               interaction_constraints=None, learning_rate=None,\n",
       "                               max_bin=None, max_cat_threshold=None,\n",
       "                               max_cat_to_onehot=None, max_delta_step=None,\n",
       "                               max_depth=None, max_leaves=None,\n",
       "                               min_child_weight=None, missing=nan,\n",
       "                               monotone_constraints=None, multi_strategy=None,\n",
       "                               n_estimators=None, n_jobs=None,\n",
       "                               num_parallel_tree=None, random_state=None, ...))])"
      ]
     },
     "execution_count": 84,
     "metadata": {},
     "output_type": "execute_result"
    }
   ],
   "source": [
    "# Fit the pipeline on the training data\n",
    "pipeline_xgb.fit(X_train, y_train)\n"
   ]
  },
  {
   "cell_type": "code",
   "execution_count": 85,
   "id": "42d9415c",
   "metadata": {},
   "outputs": [],
   "source": [
    "# Make predictions on the test data\n",
    "y_pred_xgb = pipeline_xgb.predict(X_test)"
   ]
  },
  {
   "cell_type": "code",
   "execution_count": 86,
   "id": "4d9e089e",
   "metadata": {},
   "outputs": [
    {
     "name": "stdout",
     "output_type": "stream",
     "text": [
      "Accuracy: 0.7928902627511591\n"
     ]
    }
   ],
   "source": [
    "# Evaluate the model\n",
    "accuracy_xgb = accuracy_score(y_test, y_pred_xgb)\n",
    "print(\"Accuracy:\", accuracy_xgb)\n",
    "\n",
    "conf_matrix_xgb = confusion_matrix(y_test, y_pred_xgb)"
   ]
  },
  {
   "cell_type": "code",
   "execution_count": 87,
   "id": "4ef56023",
   "metadata": {
    "scrolled": false
   },
   "outputs": [
    {
     "data": {
      "image/png": "[encoded data removed]",
      "text/plain": [
       "<Figure size 640x480 with 2 Axes>"
      ]
     },
     "metadata": {},
     "output_type": "display_data"
    },
    {
     "name": "stdout",
     "output_type": "stream",
     "text": [
      "Classification Report:\n",
      "              precision    recall  f1-score   support\n",
      "\n",
      "           0       0.78      0.73      0.75      1984\n",
      "           1       0.80      0.84      0.82      2545\n",
      "\n",
      "    accuracy                           0.79      4529\n",
      "   macro avg       0.79      0.79      0.79      4529\n",
      "weighted avg       0.79      0.79      0.79      4529\n",
      "\n"
     ]
    }
   ],
   "source": [
    "# Confusion Matrix\n",
    "sns.heatmap(conf_matrix_xgb, annot=True, fmt=\"d\", cmap=\"Blues\")\n",
    "plt.title(\"XGBoost Confusion Matrix\")\n",
    "plt.show()\n",
    "\n",
    "print(\"Classification Report:\")\n",
    "print(classification_report(y_test, y_pred_xgb))\n"
   ]
  },
  {
   "cell_type": "code",
   "execution_count": 88,
   "id": "78f380ea",
   "metadata": {},
   "outputs": [
    {
     "name": "stdout",
     "output_type": "stream",
     "text": [
      "ROC AUC Score: 0.7856076509918246\n"
     ]
    }
   ],
   "source": [
    "# Calculate ROC AUC score\n",
    "roc_auc_xgb = roc_auc_score(y_test, y_pred_xgb)\n",
    "print(\"ROC AUC Score:\", roc_auc_xgb)"
   ]
  },
  {
   "cell_type": "markdown",
   "id": "1b6b9c3e",
   "metadata": {},
   "source": [
    "## SVC"
   ]
  },
  {
   "cell_type": "code",
   "execution_count": 89,
   "id": "3aa992af",
   "metadata": {},
   "outputs": [],
   "source": [
    "from sklearn.svm import SVC\n",
    "from sklearn.feature_extraction.text import TfidfVectorizer\n",
    "from sklearn.pipeline import Pipeline\n",
    "from sklearn.metrics import accuracy_score, classification_report, confusion_matrix, roc_auc_score\n",
    "from sklearn.preprocessing import LabelEncoder\n",
    "from sklearn.model_selection import train_test_split\n",
    "import seaborn as sns\n",
    "import matplotlib.pyplot as pl"
   ]
  },
  {
   "cell_type": "code",
   "execution_count": 94,
   "id": "786b5c95",
   "metadata": {},
   "outputs": [],
   "source": [
    "# Use LabelEncoder to convert string labels to numeric values\n",
    "label_encoder = LabelEncoder()\n",
    "y_encoded = label_encoder.fit_transform(y)\n",
    "\n",
    "# Split the data into training and testing sets\n",
    "X_train, X_test, y_train, y_test = train_test_split(X, y_encoded, test_size=0.2, random_state=42)\n",
    "\n",
    "# Create an SVM classifier\n",
    "model_svc = SVC()"
   ]
  },
  {
   "cell_type": "code",
   "execution_count": 95,
   "id": "1c4f5179",
   "metadata": {},
   "outputs": [],
   "source": [
    "# Create a TF-IDF vectorizer\n",
    "tfidf = TfidfVectorizer()"
   ]
  },
  {
   "cell_type": "code",
   "execution_count": 96,
   "id": "be2888fc",
   "metadata": {},
   "outputs": [],
   "source": [
    "# Create a pipeline\n",
    "pipeline_svc = Pipeline([\n",
    "    ('tfidf', tfidf),\n",
    "    ('SVC', model_svc)\n",
    "])\n"
   ]
  },
  {
   "cell_type": "code",
   "execution_count": 97,
   "id": "4dcb568e",
   "metadata": {},
   "outputs": [
    {
     "data": {
      "text/html": [
       "<style>#sk-container-id-5 {color: black;}#sk-container-id-5 pre{padding: 0;}#sk-container-id-5 div.sk-toggleable {background-color: white;}#sk-container-id-5 label.sk-toggleable__label {cursor: pointer;display: block;width: 100%;margin-bottom: 0;padding: 0.3em;box-sizing: border-box;text-align: center;}#sk-container-id-5 label.sk-toggleable__label-arrow:before {content: \"▸\";float: left;margin-right: 0.25em;color: #696969;}#sk-container-id-5 label.sk-toggleable__label-arrow:hover:before {color: black;}#sk-container-id-5 div.sk-estimator:hover label.sk-toggleable__label-arrow:before {color: black;}#sk-container-id-5 div.sk-toggleable__content {max-height: 0;max-width: 0;overflow: hidden;text-align: left;background-color: #f0f8ff;}#sk-container-id-5 div.sk-toggleable__content pre {margin: 0.2em;color: black;border-radius: 0.25em;background-color: #f0f8ff;}#sk-container-id-5 input.sk-toggleable__control:checked~div.sk-toggleable__content {max-height: 200px;max-width: 100%;overflow: auto;}#sk-container-id-5 input.sk-toggleable__control:checked~label.sk-toggleable__label-arrow:before {content: \"▾\";}#sk-container-id-5 div.sk-estimator input.sk-toggleable__control:checked~label.sk-toggleable__label {background-color: #d4ebff;}#sk-container-id-5 div.sk-label input.sk-toggleable__control:checked~label.sk-toggleable__label {background-color: #d4ebff;}#sk-container-id-5 input.sk-hidden--visually {border: 0;clip: rect(1px 1px 1px 1px);clip: rect(1px, 1px, 1px, 1px);height: 1px;margin: -1px;overflow: hidden;padding: 0;position: absolute;width: 1px;}#sk-container-id-5 div.sk-estimator {font-family: monospace;background-color: #f0f8ff;border: 1px dotted black;border-radius: 0.25em;box-sizing: border-box;margin-bottom: 0.5em;}#sk-container-id-5 div.sk-estimator:hover {background-color: #d4ebff;}#sk-container-id-5 div.sk-parallel-item::after {content: \"\";width: 100%;border-bottom: 1px solid gray;flex-grow: 1;}#sk-container-id-5 div.sk-label:hover label.sk-toggleable__label {background-color: #d4ebff;}#sk-container-id-5 div.sk-serial::before {content: \"\";position: absolute;border-left: 1px solid gray;box-sizing: border-box;top: 0;bottom: 0;left: 50%;z-index: 0;}#sk-container-id-5 div.sk-serial {display: flex;flex-direction: column;align-items: center;background-color: white;padding-right: 0.2em;padding-left: 0.2em;position: relative;}#sk-container-id-5 div.sk-item {position: relative;z-index: 1;}#sk-container-id-5 div.sk-parallel {display: flex;align-items: stretch;justify-content: center;background-color: white;position: relative;}#sk-container-id-5 div.sk-item::before, #sk-container-id-5 div.sk-parallel-item::before {content: \"\";position: absolute;border-left: 1px solid gray;box-sizing: border-box;top: 0;bottom: 0;left: 50%;z-index: -1;}#sk-container-id-5 div.sk-parallel-item {display: flex;flex-direction: column;z-index: 1;position: relative;background-color: white;}#sk-container-id-5 div.sk-parallel-item:first-child::after {align-self: flex-end;width: 50%;}#sk-container-id-5 div.sk-parallel-item:last-child::after {align-self: flex-start;width: 50%;}#sk-container-id-5 div.sk-parallel-item:only-child::after {width: 0;}#sk-container-id-5 div.sk-dashed-wrapped {border: 1px dashed gray;margin: 0 0.4em 0.5em 0.4em;box-sizing: border-box;padding-bottom: 0.4em;background-color: white;}#sk-container-id-5 div.sk-label label {font-family: monospace;font-weight: bold;display: inline-block;line-height: 1.2em;}#sk-container-id-5 div.sk-label-container {text-align: center;}#sk-container-id-5 div.sk-container {/* jupyter's `normalize.less` sets `[hidden] { display: none; }` but bootstrap.min.css set `[hidden] { display: none !important; }` so we also need the `!important` here to be able to override the default hidden behavior on the sphinx rendered scikit-learn.org. See: https://github.com/scikit-learn/scikit-learn/issues/21755 */display: inline-block !important;position: relative;}#sk-container-id-5 div.sk-text-repr-fallback {display: none;}</style><div id=\"sk-container-id-5\" class=\"sk-top-container\"><div class=\"sk-text-repr-fallback\"><pre>Pipeline(steps=[(&#x27;tfidf&#x27;, TfidfVectorizer()), (&#x27;SVC&#x27;, SVC())])</pre><b>In a Jupyter environment, please rerun this cell to show the HTML representation or trust the notebook. <br />On GitHub, the HTML representation is unable to render, please try loading this page with nbviewer.org.</b></div><div class=\"sk-container\" hidden><div class=\"sk-item sk-dashed-wrapped\"><div class=\"sk-label-container\"><div class=\"sk-label sk-toggleable\"><input class=\"sk-toggleable__control sk-hidden--visually\" id=\"sk-estimator-id-11\" type=\"checkbox\" ><label for=\"sk-estimator-id-11\" class=\"sk-toggleable__label sk-toggleable__label-arrow\">Pipeline</label><div class=\"sk-toggleable__content\"><pre>Pipeline(steps=[(&#x27;tfidf&#x27;, TfidfVectorizer()), (&#x27;SVC&#x27;, SVC())])</pre></div></div></div><div class=\"sk-serial\"><div class=\"sk-item\"><div class=\"sk-estimator sk-toggleable\"><input class=\"sk-toggleable__control sk-hidden--visually\" id=\"sk-estimator-id-12\" type=\"checkbox\" ><label for=\"sk-estimator-id-12\" class=\"sk-toggleable__label sk-toggleable__label-arrow\">TfidfVectorizer</label><div class=\"sk-toggleable__content\"><pre>TfidfVectorizer()</pre></div></div></div><div class=\"sk-item\"><div class=\"sk-estimator sk-toggleable\"><input class=\"sk-toggleable__control sk-hidden--visually\" id=\"sk-estimator-id-13\" type=\"checkbox\" ><label for=\"sk-estimator-id-13\" class=\"sk-toggleable__label sk-toggleable__label-arrow\">SVC</label><div class=\"sk-toggleable__content\"><pre>SVC()</pre></div></div></div></div></div></div></div>"
      ],
      "text/plain": [
       "Pipeline(steps=[('tfidf', TfidfVectorizer()), ('SVC', SVC())])"
      ]
     },
     "execution_count": 97,
     "metadata": {},
     "output_type": "execute_result"
    }
   ],
   "source": [
    "# Fit the pipeline on the training data\n",
    "pipeline_svc.fit(X_train, y_train)"
   ]
  },
  {
   "cell_type": "code",
   "execution_count": 98,
   "id": "17f440f4",
   "metadata": {},
   "outputs": [
    {
     "name": "stdout",
     "output_type": "stream",
     "text": [
      "Accuracy: 0.819827776551115\n"
     ]
    }
   ],
   "source": [
    "# Make predictions on the test data\n",
    "y_pred_svc = pipeline_svc.predict(X_test)\n",
    "\n",
    "# Evaluate the model\n",
    "accuracy_svc = accuracy_score(y_test, y_pred_svc)\n",
    "print(\"Accuracy:\", accuracy_svc)"
   ]
  },
  {
   "cell_type": "code",
   "execution_count": 99,
   "id": "0ca94d95",
   "metadata": {},
   "outputs": [
    {
     "data": {
      "image/png": "[encoded data removed]",
      "text/plain": [
       "<Figure size 640x480 with 2 Axes>"
      ]
     },
     "metadata": {},
     "output_type": "display_data"
    },
    {
     "name": "stdout",
     "output_type": "stream",
     "text": [
      "Classification Report:\n",
      "              precision    recall  f1-score   support\n",
      "\n",
      "           0       0.83      0.75      0.78      1984\n",
      "           1       0.82      0.88      0.85      2545\n",
      "\n",
      "    accuracy                           0.82      4529\n",
      "   macro avg       0.82      0.81      0.81      4529\n",
      "weighted avg       0.82      0.82      0.82      4529\n",
      "\n"
     ]
    }
   ],
   "source": [
    "conf_matrix_svc = confusion_matrix(y_test, y_pred_svc)\n",
    "\n",
    "# Confusion Matrix\n",
    "sns.heatmap(conf_matrix_svc, annot=True, fmt=\"d\", cmap=\"Blues\")\n",
    "plt.title(\"SVC Confusion Matrix\")\n",
    "plt.show()\n",
    "\n",
    "print(\"Classification Report:\")\n",
    "print(classification_report(y_test, y_pred_svc))"
   ]
  },
  {
   "cell_type": "code",
   "execution_count": 100,
   "id": "fdf96134",
   "metadata": {},
   "outputs": [
    {
     "name": "stdout",
     "output_type": "stream",
     "text": [
      "ROC AUC Score: 0.8117983157994803\n"
     ]
    }
   ],
   "source": [
    "# Calculate ROC AUC score\n",
    "roc_auc_svc = roc_auc_score(y_test, y_pred_svc)\n",
    "print(\"ROC AUC Score:\", roc_auc_svc)"
   ]
  },
  {
   "cell_type": "markdown",
   "id": "7e5be7a6",
   "metadata": {},
   "source": [
    "## Hyperparameter tuning for svc"
   ]
  },
  {
   "cell_type": "code",
   "execution_count": 101,
   "id": "63358756",
   "metadata": {},
   "outputs": [],
   "source": [
    "from sklearn.model_selection import GridSearchCV\n",
    "from sklearn.svm import SVC\n",
    "from sklearn.feature_extraction.text import TfidfVectorizer\n",
    "from sklearn.pipeline import Pipeline\n",
    "from sklearn.metrics import accuracy_score, classification_report, confusion_matrix, roc_auc_score\n",
    "from sklearn.preprocessing import LabelEncoder\n",
    "from sklearn.model_selection import train_test_split\n",
    "import seaborn as sns\n",
    "import matplotlib.pyplot as plt\n"
   ]
  },
  {
   "cell_type": "code",
   "execution_count": 102,
   "id": "3d1f0af3",
   "metadata": {},
   "outputs": [],
   "source": [
    "# Use LabelEncoder to convert string labels to numeric values\n",
    "label_encoder = LabelEncoder()\n",
    "y_encoded = label_encoder.fit_transform(y)\n",
    "\n",
    "# Split the data into training and testing sets\n",
    "X_train, X_test, y_train, y_test = train_test_split(X, y_encoded, test_size=0.2, random_state=42)\n",
    "\n",
    "# Create an SVC classifier\n",
    "model_svc = SVC()\n",
    "\n",
    "# Create a TF-IDF vectorizer\n",
    "tfidf = TfidfVectorizer()\n",
    "\n",
    "# Create a pipeline\n",
    "pipeline_svc = Pipeline([\n",
    "    ('tfidf', tfidf),\n",
    "    ('SVC', model_svc)\n",
    "])"
   ]
  },
  {
   "cell_type": "code",
   "execution_count": 106,
   "id": "90f38eed",
   "metadata": {},
   "outputs": [],
   "source": [
    "# Define the parameter grid to search\n",
    "param_grid_svc = {\n",
    "    'tfidf__max_features': [100, 500, 1000],  # Example hyperparameter for TF-IDF\n",
    "    'SVC__C': [0.1, 1, 10],  # Regularization parameter\n",
    "    'SVC__kernel': ['linear', 'rbf'],  # Choice of kernel\n",
    "    'SVC__gamma': ['scale', 'auto'],  # Kernel coefficient for 'rbf' kernel\n",
    "    # Add more hyperparameters to fine-tune\n",
    "}\n"
   ]
  },
  {
   "cell_type": "code",
   "execution_count": 107,
   "id": "90066b98",
   "metadata": {},
   "outputs": [
    {
     "name": "stdout",
     "output_type": "stream",
     "text": [
      "Fitting 3 folds for each of 10 candidates, totalling 30 fits\n"
     ]
    },
    {
     "data": {
      "text/html": [
       "<style>#sk-container-id-6 {color: black;}#sk-container-id-6 pre{padding: 0;}#sk-container-id-6 div.sk-toggleable {background-color: white;}#sk-container-id-6 label.sk-toggleable__label {cursor: pointer;display: block;width: 100%;margin-bottom: 0;padding: 0.3em;box-sizing: border-box;text-align: center;}#sk-container-id-6 label.sk-toggleable__label-arrow:before {content: \"▸\";float: left;margin-right: 0.25em;color: #696969;}#sk-container-id-6 label.sk-toggleable__label-arrow:hover:before {color: black;}#sk-container-id-6 div.sk-estimator:hover label.sk-toggleable__label-arrow:before {color: black;}#sk-container-id-6 div.sk-toggleable__content {max-height: 0;max-width: 0;overflow: hidden;text-align: left;background-color: #f0f8ff;}#sk-container-id-6 div.sk-toggleable__content pre {margin: 0.2em;color: black;border-radius: 0.25em;background-color: #f0f8ff;}#sk-container-id-6 input.sk-toggleable__control:checked~div.sk-toggleable__content {max-height: 200px;max-width: 100%;overflow: auto;}#sk-container-id-6 input.sk-toggleable__control:checked~label.sk-toggleable__label-arrow:before {content: \"▾\";}#sk-container-id-6 div.sk-estimator input.sk-toggleable__control:checked~label.sk-toggleable__label {background-color: #d4ebff;}#sk-container-id-6 div.sk-label input.sk-toggleable__control:checked~label.sk-toggleable__label {background-color: #d4ebff;}#sk-container-id-6 input.sk-hidden--visually {border: 0;clip: rect(1px 1px 1px 1px);clip: rect(1px, 1px, 1px, 1px);height: 1px;margin: -1px;overflow: hidden;padding: 0;position: absolute;width: 1px;}#sk-container-id-6 div.sk-estimator {font-family: monospace;background-color: #f0f8ff;border: 1px dotted black;border-radius: 0.25em;box-sizing: border-box;margin-bottom: 0.5em;}#sk-container-id-6 div.sk-estimator:hover {background-color: #d4ebff;}#sk-container-id-6 div.sk-parallel-item::after {content: \"\";width: 100%;border-bottom: 1px solid gray;flex-grow: 1;}#sk-container-id-6 div.sk-label:hover label.sk-toggleable__label {background-color: #d4ebff;}#sk-container-id-6 div.sk-serial::before {content: \"\";position: absolute;border-left: 1px solid gray;box-sizing: border-box;top: 0;bottom: 0;left: 50%;z-index: 0;}#sk-container-id-6 div.sk-serial {display: flex;flex-direction: column;align-items: center;background-color: white;padding-right: 0.2em;padding-left: 0.2em;position: relative;}#sk-container-id-6 div.sk-item {position: relative;z-index: 1;}#sk-container-id-6 div.sk-parallel {display: flex;align-items: stretch;justify-content: center;background-color: white;position: relative;}#sk-container-id-6 div.sk-item::before, #sk-container-id-6 div.sk-parallel-item::before {content: \"\";position: absolute;border-left: 1px solid gray;box-sizing: border-box;top: 0;bottom: 0;left: 50%;z-index: -1;}#sk-container-id-6 div.sk-parallel-item {display: flex;flex-direction: column;z-index: 1;position: relative;background-color: white;}#sk-container-id-6 div.sk-parallel-item:first-child::after {align-self: flex-end;width: 50%;}#sk-container-id-6 div.sk-parallel-item:last-child::after {align-self: flex-start;width: 50%;}#sk-container-id-6 div.sk-parallel-item:only-child::after {width: 0;}#sk-container-id-6 div.sk-dashed-wrapped {border: 1px dashed gray;margin: 0 0.4em 0.5em 0.4em;box-sizing: border-box;padding-bottom: 0.4em;background-color: white;}#sk-container-id-6 div.sk-label label {font-family: monospace;font-weight: bold;display: inline-block;line-height: 1.2em;}#sk-container-id-6 div.sk-label-container {text-align: center;}#sk-container-id-6 div.sk-container {/* jupyter's `normalize.less` sets `[hidden] { display: none; }` but bootstrap.min.css set `[hidden] { display: none !important; }` so we also need the `!important` here to be able to override the default hidden behavior on the sphinx rendered scikit-learn.org. See: https://github.com/scikit-learn/scikit-learn/issues/21755 */display: inline-block !important;position: relative;}#sk-container-id-6 div.sk-text-repr-fallback {display: none;}</style><div id=\"sk-container-id-6\" class=\"sk-top-container\"><div class=\"sk-text-repr-fallback\"><pre>RandomizedSearchCV(cv=3,\n",
       "                   estimator=Pipeline(steps=[(&#x27;tfidf&#x27;, TfidfVectorizer()),\n",
       "                                             (&#x27;SVC&#x27;, SVC())]),\n",
       "                   n_jobs=-1,\n",
       "                   param_distributions={&#x27;SVC__C&#x27;: [0.1, 1, 10],\n",
       "                                        &#x27;SVC__gamma&#x27;: [&#x27;scale&#x27;, &#x27;auto&#x27;],\n",
       "                                        &#x27;SVC__kernel&#x27;: [&#x27;linear&#x27;, &#x27;rbf&#x27;],\n",
       "                                        &#x27;tfidf__max_features&#x27;: [100, 500,\n",
       "                                                                1000]},\n",
       "                   scoring=&#x27;accuracy&#x27;, verbose=1)</pre><b>In a Jupyter environment, please rerun this cell to show the HTML representation or trust the notebook. <br />On GitHub, the HTML representation is unable to render, please try loading this page with nbviewer.org.</b></div><div class=\"sk-container\" hidden><div class=\"sk-item sk-dashed-wrapped\"><div class=\"sk-label-container\"><div class=\"sk-label sk-toggleable\"><input class=\"sk-toggleable__control sk-hidden--visually\" id=\"sk-estimator-id-14\" type=\"checkbox\" ><label for=\"sk-estimator-id-14\" class=\"sk-toggleable__label sk-toggleable__label-arrow\">RandomizedSearchCV</label><div class=\"sk-toggleable__content\"><pre>RandomizedSearchCV(cv=3,\n",
       "                   estimator=Pipeline(steps=[(&#x27;tfidf&#x27;, TfidfVectorizer()),\n",
       "                                             (&#x27;SVC&#x27;, SVC())]),\n",
       "                   n_jobs=-1,\n",
       "                   param_distributions={&#x27;SVC__C&#x27;: [0.1, 1, 10],\n",
       "                                        &#x27;SVC__gamma&#x27;: [&#x27;scale&#x27;, &#x27;auto&#x27;],\n",
       "                                        &#x27;SVC__kernel&#x27;: [&#x27;linear&#x27;, &#x27;rbf&#x27;],\n",
       "                                        &#x27;tfidf__max_features&#x27;: [100, 500,\n",
       "                                                                1000]},\n",
       "                   scoring=&#x27;accuracy&#x27;, verbose=1)</pre></div></div></div><div class=\"sk-parallel\"><div class=\"sk-parallel-item\"><div class=\"sk-item\"><div class=\"sk-label-container\"><div class=\"sk-label sk-toggleable\"><input class=\"sk-toggleable__control sk-hidden--visually\" id=\"sk-estimator-id-15\" type=\"checkbox\" ><label for=\"sk-estimator-id-15\" class=\"sk-toggleable__label sk-toggleable__label-arrow\">estimator: Pipeline</label><div class=\"sk-toggleable__content\"><pre>Pipeline(steps=[(&#x27;tfidf&#x27;, TfidfVectorizer()), (&#x27;SVC&#x27;, SVC())])</pre></div></div></div><div class=\"sk-serial\"><div class=\"sk-item\"><div class=\"sk-serial\"><div class=\"sk-item\"><div class=\"sk-estimator sk-toggleable\"><input class=\"sk-toggleable__control sk-hidden--visually\" id=\"sk-estimator-id-16\" type=\"checkbox\" ><label for=\"sk-estimator-id-16\" class=\"sk-toggleable__label sk-toggleable__label-arrow\">TfidfVectorizer</label><div class=\"sk-toggleable__content\"><pre>TfidfVectorizer()</pre></div></div></div><div class=\"sk-item\"><div class=\"sk-estimator sk-toggleable\"><input class=\"sk-toggleable__control sk-hidden--visually\" id=\"sk-estimator-id-17\" type=\"checkbox\" ><label for=\"sk-estimator-id-17\" class=\"sk-toggleable__label sk-toggleable__label-arrow\">SVC</label><div class=\"sk-toggleable__content\"><pre>SVC()</pre></div></div></div></div></div></div></div></div></div></div></div></div>"
      ],
      "text/plain": [
       "RandomizedSearchCV(cv=3,\n",
       "                   estimator=Pipeline(steps=[('tfidf', TfidfVectorizer()),\n",
       "                                             ('SVC', SVC())]),\n",
       "                   n_jobs=-1,\n",
       "                   param_distributions={'SVC__C': [0.1, 1, 10],\n",
       "                                        'SVC__gamma': ['scale', 'auto'],\n",
       "                                        'SVC__kernel': ['linear', 'rbf'],\n",
       "                                        'tfidf__max_features': [100, 500,\n",
       "                                                                1000]},\n",
       "                   scoring='accuracy', verbose=1)"
      ]
     },
     "execution_count": 107,
     "metadata": {},
     "output_type": "execute_result"
    }
   ],
   "source": [
    "from sklearn.model_selection import RandomizedSearchCV\n",
    "\n",
    "random_search_svc = RandomizedSearchCV(pipeline_svc, param_distributions=param_grid_svc, n_iter=10, cv=3, scoring='accuracy', verbose=1, n_jobs=-1)\n",
    "random_search_svc.fit(X_train, y_train)\n",
    "\n"
   ]
  },
  {
   "cell_type": "code",
   "execution_count": 108,
   "id": "0c997fa2",
   "metadata": {},
   "outputs": [
    {
     "name": "stdout",
     "output_type": "stream",
     "text": [
      "Best Model Accuracy: 0.8132037977478472\n",
      "Best Hyperparameters: RandomizedSearchCV(cv=3,\n",
      "                   estimator=Pipeline(steps=[('tfidf', TfidfVectorizer()),\n",
      "                                             ('SVC', SVC())]),\n",
      "                   n_jobs=-1,\n",
      "                   param_distributions={'SVC__C': [0.1, 1, 10],\n",
      "                                        'SVC__gamma': ['scale', 'auto'],\n",
      "                                        'SVC__kernel': ['linear', 'rbf'],\n",
      "                                        'tfidf__max_features': [100, 500,\n",
      "                                                                1000]},\n",
      "                   scoring='accuracy', verbose=1)\n"
     ]
    }
   ],
   "source": [
    "# Get the best hyperparameters and model\n",
    "best_params_svc = random_search_svc\n",
    "best_model_svc = random_search_svc\n",
    "\n",
    "# Make predictions on the test data using the best model\n",
    "y_pred_best_svc = best_model_svc.predict(X_test)\n",
    "\n",
    "# Evaluate the best model\n",
    "accuracy_best_svc = accuracy_score(y_test, y_pred_best_svc)\n",
    "print(\"Best Model Accuracy:\", accuracy_best_svc)\n",
    "print(\"Best Hyperparameters:\", best_params_svc)"
   ]
  },
  {
   "cell_type": "code",
   "execution_count": 109,
   "id": "09bc6ce9",
   "metadata": {},
   "outputs": [
    {
     "name": "stdout",
     "output_type": "stream",
     "text": [
      "Fitting 3 folds for each of 36 candidates, totalling 108 fits\n"
     ]
    },
    {
     "data": {
      "text/html": [
       "<style>#sk-container-id-7 {color: black;}#sk-container-id-7 pre{padding: 0;}#sk-container-id-7 div.sk-toggleable {background-color: white;}#sk-container-id-7 label.sk-toggleable__label {cursor: pointer;display: block;width: 100%;margin-bottom: 0;padding: 0.3em;box-sizing: border-box;text-align: center;}#sk-container-id-7 label.sk-toggleable__label-arrow:before {content: \"▸\";float: left;margin-right: 0.25em;color: #696969;}#sk-container-id-7 label.sk-toggleable__label-arrow:hover:before {color: black;}#sk-container-id-7 div.sk-estimator:hover label.sk-toggleable__label-arrow:before {color: black;}#sk-container-id-7 div.sk-toggleable__content {max-height: 0;max-width: 0;overflow: hidden;text-align: left;background-color: #f0f8ff;}#sk-container-id-7 div.sk-toggleable__content pre {margin: 0.2em;color: black;border-radius: 0.25em;background-color: #f0f8ff;}#sk-container-id-7 input.sk-toggleable__control:checked~div.sk-toggleable__content {max-height: 200px;max-width: 100%;overflow: auto;}#sk-container-id-7 input.sk-toggleable__control:checked~label.sk-toggleable__label-arrow:before {content: \"▾\";}#sk-container-id-7 div.sk-estimator input.sk-toggleable__control:checked~label.sk-toggleable__label {background-color: #d4ebff;}#sk-container-id-7 div.sk-label input.sk-toggleable__control:checked~label.sk-toggleable__label {background-color: #d4ebff;}#sk-container-id-7 input.sk-hidden--visually {border: 0;clip: rect(1px 1px 1px 1px);clip: rect(1px, 1px, 1px, 1px);height: 1px;margin: -1px;overflow: hidden;padding: 0;position: absolute;width: 1px;}#sk-container-id-7 div.sk-estimator {font-family: monospace;background-color: #f0f8ff;border: 1px dotted black;border-radius: 0.25em;box-sizing: border-box;margin-bottom: 0.5em;}#sk-container-id-7 div.sk-estimator:hover {background-color: #d4ebff;}#sk-container-id-7 div.sk-parallel-item::after {content: \"\";width: 100%;border-bottom: 1px solid gray;flex-grow: 1;}#sk-container-id-7 div.sk-label:hover label.sk-toggleable__label {background-color: #d4ebff;}#sk-container-id-7 div.sk-serial::before {content: \"\";position: absolute;border-left: 1px solid gray;box-sizing: border-box;top: 0;bottom: 0;left: 50%;z-index: 0;}#sk-container-id-7 div.sk-serial {display: flex;flex-direction: column;align-items: center;background-color: white;padding-right: 0.2em;padding-left: 0.2em;position: relative;}#sk-container-id-7 div.sk-item {position: relative;z-index: 1;}#sk-container-id-7 div.sk-parallel {display: flex;align-items: stretch;justify-content: center;background-color: white;position: relative;}#sk-container-id-7 div.sk-item::before, #sk-container-id-7 div.sk-parallel-item::before {content: \"\";position: absolute;border-left: 1px solid gray;box-sizing: border-box;top: 0;bottom: 0;left: 50%;z-index: -1;}#sk-container-id-7 div.sk-parallel-item {display: flex;flex-direction: column;z-index: 1;position: relative;background-color: white;}#sk-container-id-7 div.sk-parallel-item:first-child::after {align-self: flex-end;width: 50%;}#sk-container-id-7 div.sk-parallel-item:last-child::after {align-self: flex-start;width: 50%;}#sk-container-id-7 div.sk-parallel-item:only-child::after {width: 0;}#sk-container-id-7 div.sk-dashed-wrapped {border: 1px dashed gray;margin: 0 0.4em 0.5em 0.4em;box-sizing: border-box;padding-bottom: 0.4em;background-color: white;}#sk-container-id-7 div.sk-label label {font-family: monospace;font-weight: bold;display: inline-block;line-height: 1.2em;}#sk-container-id-7 div.sk-label-container {text-align: center;}#sk-container-id-7 div.sk-container {/* jupyter's `normalize.less` sets `[hidden] { display: none; }` but bootstrap.min.css set `[hidden] { display: none !important; }` so we also need the `!important` here to be able to override the default hidden behavior on the sphinx rendered scikit-learn.org. See: https://github.com/scikit-learn/scikit-learn/issues/21755 */display: inline-block !important;position: relative;}#sk-container-id-7 div.sk-text-repr-fallback {display: none;}</style><div id=\"sk-container-id-7\" class=\"sk-top-container\"><div class=\"sk-text-repr-fallback\"><pre>GridSearchCV(cv=3,\n",
       "             estimator=Pipeline(steps=[(&#x27;tfidf&#x27;, TfidfVectorizer()),\n",
       "                                       (&#x27;SVC&#x27;, SVC())]),\n",
       "             n_jobs=-1,\n",
       "             param_grid={&#x27;SVC__C&#x27;: [0.1, 1, 10],\n",
       "                         &#x27;SVC__gamma&#x27;: [&#x27;scale&#x27;, &#x27;auto&#x27;],\n",
       "                         &#x27;SVC__kernel&#x27;: [&#x27;linear&#x27;, &#x27;rbf&#x27;],\n",
       "                         &#x27;tfidf__max_features&#x27;: [100, 500, 1000]},\n",
       "             scoring=&#x27;accuracy&#x27;, verbose=1)</pre><b>In a Jupyter environment, please rerun this cell to show the HTML representation or trust the notebook. <br />On GitHub, the HTML representation is unable to render, please try loading this page with nbviewer.org.</b></div><div class=\"sk-container\" hidden><div class=\"sk-item sk-dashed-wrapped\"><div class=\"sk-label-container\"><div class=\"sk-label sk-toggleable\"><input class=\"sk-toggleable__control sk-hidden--visually\" id=\"sk-estimator-id-18\" type=\"checkbox\" ><label for=\"sk-estimator-id-18\" class=\"sk-toggleable__label sk-toggleable__label-arrow\">GridSearchCV</label><div class=\"sk-toggleable__content\"><pre>GridSearchCV(cv=3,\n",
       "             estimator=Pipeline(steps=[(&#x27;tfidf&#x27;, TfidfVectorizer()),\n",
       "                                       (&#x27;SVC&#x27;, SVC())]),\n",
       "             n_jobs=-1,\n",
       "             param_grid={&#x27;SVC__C&#x27;: [0.1, 1, 10],\n",
       "                         &#x27;SVC__gamma&#x27;: [&#x27;scale&#x27;, &#x27;auto&#x27;],\n",
       "                         &#x27;SVC__kernel&#x27;: [&#x27;linear&#x27;, &#x27;rbf&#x27;],\n",
       "                         &#x27;tfidf__max_features&#x27;: [100, 500, 1000]},\n",
       "             scoring=&#x27;accuracy&#x27;, verbose=1)</pre></div></div></div><div class=\"sk-parallel\"><div class=\"sk-parallel-item\"><div class=\"sk-item\"><div class=\"sk-label-container\"><div class=\"sk-label sk-toggleable\"><input class=\"sk-toggleable__control sk-hidden--visually\" id=\"sk-estimator-id-19\" type=\"checkbox\" ><label for=\"sk-estimator-id-19\" class=\"sk-toggleable__label sk-toggleable__label-arrow\">estimator: Pipeline</label><div class=\"sk-toggleable__content\"><pre>Pipeline(steps=[(&#x27;tfidf&#x27;, TfidfVectorizer()), (&#x27;SVC&#x27;, SVC())])</pre></div></div></div><div class=\"sk-serial\"><div class=\"sk-item\"><div class=\"sk-serial\"><div class=\"sk-item\"><div class=\"sk-estimator sk-toggleable\"><input class=\"sk-toggleable__control sk-hidden--visually\" id=\"sk-estimator-id-20\" type=\"checkbox\" ><label for=\"sk-estimator-id-20\" class=\"sk-toggleable__label sk-toggleable__label-arrow\">TfidfVectorizer</label><div class=\"sk-toggleable__content\"><pre>TfidfVectorizer()</pre></div></div></div><div class=\"sk-item\"><div class=\"sk-estimator sk-toggleable\"><input class=\"sk-toggleable__control sk-hidden--visually\" id=\"sk-estimator-id-21\" type=\"checkbox\" ><label for=\"sk-estimator-id-21\" class=\"sk-toggleable__label sk-toggleable__label-arrow\">SVC</label><div class=\"sk-toggleable__content\"><pre>SVC()</pre></div></div></div></div></div></div></div></div></div></div></div></div>"
      ],
      "text/plain": [
       "GridSearchCV(cv=3,\n",
       "             estimator=Pipeline(steps=[('tfidf', TfidfVectorizer()),\n",
       "                                       ('SVC', SVC())]),\n",
       "             n_jobs=-1,\n",
       "             param_grid={'SVC__C': [0.1, 1, 10],\n",
       "                         'SVC__gamma': ['scale', 'auto'],\n",
       "                         'SVC__kernel': ['linear', 'rbf'],\n",
       "                         'tfidf__max_features': [100, 500, 1000]},\n",
       "             scoring='accuracy', verbose=1)"
      ]
     },
     "execution_count": 109,
     "metadata": {},
     "output_type": "execute_result"
    }
   ],
   "source": [
    "grid_search_svc = GridSearchCV(pipeline_svc, param_grid_svc, cv=3, scoring='accuracy', verbose=1, n_jobs=-1)\n",
    "\n",
    "# Fit the grid search on the training data\n",
    "grid_search_svc.fit(X_train, y_train)"
   ]
  },
  {
   "cell_type": "code",
   "execution_count": 110,
   "id": "1a990a3e",
   "metadata": {
    "scrolled": true
   },
   "outputs": [
    {
     "name": "stdout",
     "output_type": "stream",
     "text": [
      "Best Model Accuracy: 0.8132037977478472\n",
      "Best Hyperparameters: {'SVC__C': 1, 'SVC__gamma': 'scale', 'SVC__kernel': 'rbf', 'tfidf__max_features': 1000}\n"
     ]
    }
   ],
   "source": [
    "# Get the best hyperparameters and model\n",
    "best_params_svc = grid_search_svc.best_params_\n",
    "best_model_svc = grid_search_svc.best_estimator_\n",
    "\n",
    "# Make predictions on the test data using the best model\n",
    "y_pred_best_svc = best_model_svc.predict(X_test)\n",
    "\n",
    "# Evaluate the best model\n",
    "accuracy_best_svc = accuracy_score(y_test, y_pred_best_svc)\n",
    "print(\"Best Model Accuracy:\", accuracy_best_svc)\n",
    "print(\"Best Hyperparameters:\", best_params_svc)"
   ]
  },
  {
   "cell_type": "markdown",
   "id": "de24739d",
   "metadata": {},
   "source": [
    "## Model Deployment"
   ]
  },
  {
   "cell_type": "code",
   "execution_count": 112,
   "id": "0ba3e875",
   "metadata": {},
   "outputs": [
    {
     "data": {
      "text/plain": [
       "['c2_Sentimentanalysis_Model_pipeline.pkl']"
      ]
     },
     "execution_count": 112,
     "metadata": {},
     "output_type": "execute_result"
    }
   ],
   "source": [
    "import joblib\n",
    "joblib.dump(pipeline_svc,'c2_Sentimentanalysis_Model_pipeline.pkl')"
   ]
  },
  {
   "cell_type": "code",
   "execution_count": 115,
   "id": "2e420076",
   "metadata": {},
   "outputs": [
    {
     "name": "stdout",
     "output_type": "stream",
     "text": [
      "The model predicts the review as Positive.\n"
     ]
    }
   ],
   "source": [
    "# Fit the pipeline on the training data\n",
    "pipeline_svc.fit(X_train, y_train)\n",
    "\n",
    "# Now you can use the pipeline for predictions\n",
    "review = \"This is a good cloth review.\"\n",
    "prediction = pipeline_svc.predict([review])\n",
    "\n",
    "if prediction == 1:\n",
    "    result = 'Positive'\n",
    "else:\n",
    "    result = 'Negative'\n",
    "\n",
    "print(f\"The model predicts the review as {result}.\")"
   ]
  },
  {
   "cell_type": "code",
   "execution_count": 119,
   "id": "002b0ccb",
   "metadata": {},
   "outputs": [
    {
     "name": "stderr",
     "output_type": "stream",
     "text": [
      "\n",
      "KeyboardInterrupt\n",
      "\n"
     ]
    }
   ],
   "source": [
    "# fancy way \n",
    "new_review = []\n",
    "pred_sentiment = []\n",
    "\n",
    "while True:\n",
    "    # ask for a new Review\n",
    "    review = input(\"Please Type an Cloth Review - \")\n",
    "    \n",
    "    if review == 'skip':\n",
    "        print(\"See you soon\")\n",
    "        break\n",
    "    else:\n",
    "        prediction = pipeline_svc.predict([review])\n",
    "        \n",
    "    if prediction == 1:\n",
    "        result = 'Positive'\n",
    "        print(\"Result: this review is positive\\n\")\n",
    "    else:\n",
    "        result = 'Negative'\n",
    "        print(\"Result: this review is negative\\n\")\n",
    "        \n",
    "    new_review.append(review)\n",
    "    pred_sentiment.append(result)\n",
    "    "
   ]
  },
  {
   "cell_type": "code",
   "execution_count": null,
   "id": "8b91c073",
   "metadata": {},
   "outputs": [],
   "source": []
  }
 ],
 "metadata": {
  "kernelspec": {
   "display_name": "Python 3 (ipykernel)",
   "language": "python",
   "name": "python3"
  },
  "language_info": {
   "codemirror_mode": {
    "name": "ipython",
    "version": 3
   },
   "file_extension": ".py",
   "mimetype": "text/x-python",
   "name": "python",
   "nbconvert_exporter": "python",
   "pygments_lexer": "ipython3",
   "version": "3.11.5"
  }
 },
 "nbformat": 4,
 "nbformat_minor": 5
}
